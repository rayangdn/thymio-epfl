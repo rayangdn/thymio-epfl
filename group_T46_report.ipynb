{
 "cells": [
  {
   "cell_type": "code",
   "execution_count": 1,
   "metadata": {},
   "outputs": [
    {
     "name": "stdout",
     "output_type": "stream",
     "text": [
      "Requirement already satisfied: numpy>=1.24.0 in /home/rayann/miniconda3/envs/thymio-project/lib/python3.12/site-packages (from -r requirements.txt (line 1)) (2.0.0)\n",
      "Requirement already satisfied: opencv-python>=4.8.0 in /home/rayann/miniconda3/envs/thymio-project/lib/python3.12/site-packages (from -r requirements.txt (line 2)) (4.10.0.84)\n",
      "Requirement already satisfied: opencv-contrib-python>=4.8.0 in /home/rayann/miniconda3/envs/thymio-project/lib/python3.12/site-packages (from -r requirements.txt (line 3)) (4.10.0.84)\n",
      "Requirement already satisfied: PyYAML>=6.0.1 in /home/rayann/miniconda3/envs/thymio-project/lib/python3.12/site-packages (from -r requirements.txt (line 4)) (6.0.2)\n",
      "Requirement already satisfied: matplotlib>=3.4.3 in /home/rayann/miniconda3/envs/thymio-project/lib/python3.12/site-packages (from -r requirements.txt (line 5)) (3.9.2)\n",
      "Requirement already satisfied: pyvisgraph>=0.2.1 in /home/rayann/miniconda3/envs/thymio-project/lib/python3.12/site-packages (from -r requirements.txt (line 6)) (0.2.1)\n",
      "Requirement already satisfied: tqdm>=4.65.0 in /home/rayann/miniconda3/envs/thymio-project/lib/python3.12/site-packages (from -r requirements.txt (line 7)) (4.67.0)\n",
      "Requirement already satisfied: docutils>=0.20.1 in /home/rayann/miniconda3/envs/thymio-project/lib/python3.12/site-packages (from -r requirements.txt (line 8)) (0.21.2)\n",
      "Requirement already satisfied: ipywidgets>=8.0.0 in /home/rayann/miniconda3/envs/thymio-project/lib/python3.12/site-packages (from -r requirements.txt (line 9)) (8.1.5)\n",
      "Requirement already satisfied: tdmclient>=0.1.21 in /home/rayann/miniconda3/envs/thymio-project/lib/python3.12/site-packages (from -r requirements.txt (line 11)) (0.1.21)\n",
      "Requirement already satisfied: tk-tools>=0.16.0 in /home/rayann/miniconda3/envs/thymio-project/lib/python3.12/site-packages (from -r requirements.txt (line 12)) (0.16.0)\n",
      "Requirement already satisfied: contourpy>=1.0.1 in /home/rayann/miniconda3/envs/thymio-project/lib/python3.12/site-packages (from matplotlib>=3.4.3->-r requirements.txt (line 5)) (1.3.1)\n",
      "Requirement already satisfied: cycler>=0.10 in /home/rayann/miniconda3/envs/thymio-project/lib/python3.12/site-packages (from matplotlib>=3.4.3->-r requirements.txt (line 5)) (0.12.1)\n",
      "Requirement already satisfied: fonttools>=4.22.0 in /home/rayann/miniconda3/envs/thymio-project/lib/python3.12/site-packages (from matplotlib>=3.4.3->-r requirements.txt (line 5)) (4.55.0)\n",
      "Requirement already satisfied: kiwisolver>=1.3.1 in /home/rayann/miniconda3/envs/thymio-project/lib/python3.12/site-packages (from matplotlib>=3.4.3->-r requirements.txt (line 5)) (1.4.7)\n",
      "Requirement already satisfied: packaging>=20.0 in /home/rayann/miniconda3/envs/thymio-project/lib/python3.12/site-packages (from matplotlib>=3.4.3->-r requirements.txt (line 5)) (24.2)\n",
      "Requirement already satisfied: pillow>=8 in /home/rayann/miniconda3/envs/thymio-project/lib/python3.12/site-packages (from matplotlib>=3.4.3->-r requirements.txt (line 5)) (10.2.0)\n",
      "Requirement already satisfied: pyparsing>=2.3.1 in /home/rayann/miniconda3/envs/thymio-project/lib/python3.12/site-packages (from matplotlib>=3.4.3->-r requirements.txt (line 5)) (3.2.0)\n",
      "Requirement already satisfied: python-dateutil>=2.7 in /home/rayann/miniconda3/envs/thymio-project/lib/python3.12/site-packages (from matplotlib>=3.4.3->-r requirements.txt (line 5)) (2.9.0)\n",
      "Requirement already satisfied: comm>=0.1.3 in /home/rayann/miniconda3/envs/thymio-project/lib/python3.12/site-packages (from ipywidgets>=8.0.0->-r requirements.txt (line 9)) (0.2.2)\n",
      "Requirement already satisfied: ipython>=6.1.0 in /home/rayann/miniconda3/envs/thymio-project/lib/python3.12/site-packages (from ipywidgets>=8.0.0->-r requirements.txt (line 9)) (8.29.0)\n",
      "Requirement already satisfied: traitlets>=4.3.1 in /home/rayann/miniconda3/envs/thymio-project/lib/python3.12/site-packages (from ipywidgets>=8.0.0->-r requirements.txt (line 9)) (5.14.3)\n",
      "Requirement already satisfied: widgetsnbextension~=4.0.12 in /home/rayann/miniconda3/envs/thymio-project/lib/python3.12/site-packages (from ipywidgets>=8.0.0->-r requirements.txt (line 9)) (4.0.13)\n",
      "Requirement already satisfied: jupyterlab-widgets~=3.0.12 in /home/rayann/miniconda3/envs/thymio-project/lib/python3.12/site-packages (from ipywidgets>=8.0.0->-r requirements.txt (line 9)) (3.0.13)\n",
      "Requirement already satisfied: websockets in /home/rayann/miniconda3/envs/thymio-project/lib/python3.12/site-packages (from tdmclient>=0.1.21->-r requirements.txt (line 11)) (14.1)\n",
      "Requirement already satisfied: zeroconf in /home/rayann/miniconda3/envs/thymio-project/lib/python3.12/site-packages (from tdmclient>=0.1.21->-r requirements.txt (line 11)) (0.136.0)\n",
      "Requirement already satisfied: engineering-notation>=0.5 in /home/rayann/miniconda3/envs/thymio-project/lib/python3.12/site-packages (from tk-tools>=0.16.0->-r requirements.txt (line 12)) (0.10.0)\n",
      "Requirement already satisfied: decorator in /home/rayann/miniconda3/envs/thymio-project/lib/python3.12/site-packages (from ipython>=6.1.0->ipywidgets>=8.0.0->-r requirements.txt (line 9)) (5.1.1)\n",
      "Requirement already satisfied: jedi>=0.16 in /home/rayann/miniconda3/envs/thymio-project/lib/python3.12/site-packages (from ipython>=6.1.0->ipywidgets>=8.0.0->-r requirements.txt (line 9)) (0.19.2)\n",
      "Requirement already satisfied: matplotlib-inline in /home/rayann/miniconda3/envs/thymio-project/lib/python3.12/site-packages (from ipython>=6.1.0->ipywidgets>=8.0.0->-r requirements.txt (line 9)) (0.1.7)\n",
      "Requirement already satisfied: prompt-toolkit<3.1.0,>=3.0.41 in /home/rayann/miniconda3/envs/thymio-project/lib/python3.12/site-packages (from ipython>=6.1.0->ipywidgets>=8.0.0->-r requirements.txt (line 9)) (3.0.48)\n",
      "Requirement already satisfied: pygments>=2.4.0 in /home/rayann/miniconda3/envs/thymio-project/lib/python3.12/site-packages (from ipython>=6.1.0->ipywidgets>=8.0.0->-r requirements.txt (line 9)) (2.18.0)\n",
      "Requirement already satisfied: stack-data in /home/rayann/miniconda3/envs/thymio-project/lib/python3.12/site-packages (from ipython>=6.1.0->ipywidgets>=8.0.0->-r requirements.txt (line 9)) (0.6.2)\n",
      "Requirement already satisfied: pexpect>4.3 in /home/rayann/miniconda3/envs/thymio-project/lib/python3.12/site-packages (from ipython>=6.1.0->ipywidgets>=8.0.0->-r requirements.txt (line 9)) (4.9.0)\n",
      "Requirement already satisfied: six>=1.5 in /home/rayann/miniconda3/envs/thymio-project/lib/python3.12/site-packages (from python-dateutil>=2.7->matplotlib>=3.4.3->-r requirements.txt (line 5)) (1.16.0)\n",
      "Requirement already satisfied: ifaddr>=0.1.7 in /home/rayann/miniconda3/envs/thymio-project/lib/python3.12/site-packages (from zeroconf->tdmclient>=0.1.21->-r requirements.txt (line 11)) (0.2.0)\n",
      "Requirement already satisfied: parso<0.9.0,>=0.8.4 in /home/rayann/miniconda3/envs/thymio-project/lib/python3.12/site-packages (from jedi>=0.16->ipython>=6.1.0->ipywidgets>=8.0.0->-r requirements.txt (line 9)) (0.8.4)\n",
      "Requirement already satisfied: ptyprocess>=0.5 in /home/rayann/miniconda3/envs/thymio-project/lib/python3.12/site-packages (from pexpect>4.3->ipython>=6.1.0->ipywidgets>=8.0.0->-r requirements.txt (line 9)) (0.7.0)\n",
      "Requirement already satisfied: wcwidth in /home/rayann/miniconda3/envs/thymio-project/lib/python3.12/site-packages (from prompt-toolkit<3.1.0,>=3.0.41->ipython>=6.1.0->ipywidgets>=8.0.0->-r requirements.txt (line 9)) (0.2.13)\n",
      "Requirement already satisfied: executing>=1.2.0 in /home/rayann/miniconda3/envs/thymio-project/lib/python3.12/site-packages (from stack-data->ipython>=6.1.0->ipywidgets>=8.0.0->-r requirements.txt (line 9)) (2.1.0)\n",
      "Requirement already satisfied: asttokens>=2.1.0 in /home/rayann/miniconda3/envs/thymio-project/lib/python3.12/site-packages (from stack-data->ipython>=6.1.0->ipywidgets>=8.0.0->-r requirements.txt (line 9)) (2.4.1)\n",
      "Requirement already satisfied: pure-eval in /home/rayann/miniconda3/envs/thymio-project/lib/python3.12/site-packages (from stack-data->ipython>=6.1.0->ipywidgets>=8.0.0->-r requirements.txt (line 9)) (0.2.3)\n"
     ]
    }
   ],
   "source": [
    "!pip install -r requirements.txt"
   ]
  },
  {
   "cell_type": "code",
   "execution_count": 22,
   "metadata": {},
   "outputs": [],
   "source": [
    "import yaml\n",
    "import numpy as np\n",
    "import time\n",
    "import tdmclient.notebook"
   ]
  },
  {
   "cell_type": "code",
   "execution_count": 23,
   "metadata": {},
   "outputs": [],
   "source": [
    "#import scripts files\n",
    "from scripts.vision import Vision\n",
    "from scripts.global_nav import GlobalNav\n",
    "from scripts.local_nav import LocalNav\n",
    "from utils import utils"
   ]
  },
  {
   "cell_type": "code",
   "execution_count": 24,
   "metadata": {},
   "outputs": [],
   "source": [
    "# Load the configuration file\n",
    "with open('config/config.yaml', 'r') as file:\n",
    "    config = yaml.safe_load(file)\n",
    "\n",
    "# time step\n",
    "dt = config['time_step']\n",
    "\n",
    "# Controller configuration\n",
    "angle_tolerance = np.deg2rad(config['controller']['angle_tolerance']) \n",
    "distance_tolerance = config['controller']['distance_tolerance'] #mm\n",
    "scale_rotation_speed = config['controller']['scale_rotation_speed'] \n",
    "max_rotation_speed = config['controller']['max_rotation_speed'] \n",
    "scale_translation_speed = config['controller']['scale_translation_speed'] \n",
    "min_translation_speed = config['controller']['min_translation_speed'] \n",
    "max_translation_speed = config['controller']['max_translation_speed'] \n",
    "kidnap_threshold = config['controller']['kidnap_threshold']\n",
    "obstacles_max_iter = config['controller']['obstacles_max_iter']\n",
    "obstacles_speed = config['controller']['obstacles_speed']\n",
    "scale_sensor = config['controller']['scale_sensor']\n",
    "weight_left = config['controller']['weight_left']\n",
    "weight_right = config['controller']['weight_right']\n",
    "scale_speed = config['controller']['scale_speed'] # thymio speed to mm/s taken from lab 8\n",
    "\n",
    "# World configuration\n",
    "world_width = config['world']['width'] #mm\n",
    "world_height = config['world']['height'] #mm\n",
    "obstacle_min_area = config['world']['obstacle_min_area'] #mm²\n",
    "aruco_size = config['world']['aruco_size'] #mm\n",
    "\n",
    "# Thymio configuration\n",
    "thymio_size = config['thymio']['size'] #mm\n",
    "security_margin = config['thymio']['margin'] #mm\n",
    "\n",
    "# Webcam configuration\n",
    "webcam_device_id = config['webcam']['device_id']\n",
    "webcam_matrix = np.array(config['webcam']['matrix'])\n",
    "webcam_distortion = np.array(config['webcam']['distortion'])\n",
    "webcam_resolution = config['webcam']['resolution']\n",
    "webcam_padding = config['webcam']['padding']\n",
    "scale_factor = webcam_resolution[1] / world_width\n"
   ]
  },
  {
   "cell_type": "code",
   "execution_count": 4,
   "metadata": {},
   "outputs": [
    {
     "name": "stdout",
     "output_type": "stream",
     "text": [
      "Successfully connected to Thymio.\n"
     ]
    }
   ],
   "source": [
    "await tdmclient.notebook.start()\n",
    "print(\"Successfully connected to Thymio.\")"
   ]
  },
  {
   "cell_type": "code",
   "execution_count": 5,
   "metadata": {},
   "outputs": [
    {
     "name": "stdout",
     "output_type": "stream",
     "text": [
      "Thymio functions defined correctly.\n"
     ]
    }
   ],
   "source": [
    "@tdmclient.notebook.sync_var\n",
    "def motor_move(left,right):\n",
    "    global motor_left_target, motor_right_target\n",
    "    motor_left_target = left\n",
    "    motor_right_target = right\n",
    "    \n",
    "@tdmclient.notebook.sync_var\n",
    "def motor_stop():\n",
    "    global motor_left_target,motor_right_target\n",
    "    motor_left_target = 0\n",
    "    motor_right_target = 0\n",
    "    \n",
    "@tdmclient.notebook.sync_var\n",
    "def sensor_data():\n",
    "    global prox_horizontal\n",
    "    return prox_horizontal.copy()\n",
    "\n",
    "print(\"Thymio functions defined correctly.\")"
   ]
  },
  {
   "cell_type": "code",
   "execution_count": 19,
   "metadata": {},
   "outputs": [],
   "source": [
    "motor_move(50, 50)\n",
    "time.sleep(1)\n",
    "motor_stop()"
   ]
  },
  {
   "cell_type": "code",
   "execution_count": 25,
   "metadata": {},
   "outputs": [
    {
     "name": "stdout",
     "output_type": "stream",
     "text": [
      "Vision Initialized\n",
      "GlobalNav Initialized\n",
      "LocalNav Initialized\n"
     ]
    }
   ],
   "source": [
    "vision = Vision(\n",
    "    device_id=webcam_device_id,\n",
    "    camera_matrix=webcam_matrix,\n",
    "    dist_coeffs=webcam_distortion,\n",
    "    resolution=webcam_resolution,\n",
    "    padding=webcam_padding,\n",
    "    scale_factor=scale_factor,\n",
    "    world_width=world_width,\n",
    "    world_height=world_height\n",
    "    \n",
    ")\n",
    "global_nav = GlobalNav(\n",
    "    world_width=world_width,\n",
    "    world_height=world_height,\n",
    "    obstacle_min_area=obstacle_min_area,\n",
    "    thymio_size=thymio_size,\n",
    "    security_margin=security_margin,\n",
    "    scale_factor=scale_factor,\n",
    "    aruco_size=aruco_size\n",
    "    \n",
    ")\n",
    "local_nav = LocalNav(\n",
    "    angle_threshold=angle_tolerance,\n",
    "    distance_threshold=distance_tolerance,\n",
    "    scale_rotation_speed=scale_rotation_speed,\n",
    "    max_rotation_speed=max_rotation_speed,\n",
    "    scale_translation_speed=scale_translation_speed,\n",
    "    min_translation_speed=min_translation_speed,\n",
    "    max_translation_speed=max_translation_speed,\n",
    "    obstacles_max_iter=obstacles_max_iter,\n",
    "    obstacles_speed=obstacles_speed,\n",
    "    scale_sensor=scale_sensor,\n",
    "    weight_left=weight_left,\n",
    "    weight_right=weight_right\n",
    ")"
   ]
  },
  {
   "cell_type": "code",
   "execution_count": 5,
   "metadata": {},
   "outputs": [
    {
     "data": {
      "text/plain": [
       "'Found Trajectory!'"
      ]
     },
     "metadata": {},
     "output_type": "display_data"
    },
    {
     "data": {
      "image/jpeg": "[encoded data removed]",
      "text/plain": [
       "<IPython.core.display.Image object>"
      ]
     },
     "metadata": {},
     "output_type": "display_data"
    }
   ],
   "source": [
    "# Global variables\n",
    "got_trajectory = False\n",
    "trajectory_frame = None\n",
    "trajectory_pos = None\n",
    "obstacles_pos = None\n",
    "thymio_init_pos = None\n",
    "thymio_init_orientation = None\n",
    "\n",
    "try:\n",
    "    # Try connecting to the webcam\n",
    "    display(f\"Trying to connect to device {webcam_device_id}...\")\n",
    "    if not vision.connect_webcam():\n",
    "        display(\"Could not find webcam on any device ID. Please check connection.\")\n",
    "        exit(1)\n",
    "    else: \n",
    "        display(f\"Successfully connected to device {webcam_device_id}\")\n",
    "    while not got_trajectory:\n",
    "        original_frame, process_frame, thymio_init_pos, thymio_init_orientation, goal_pos, found_thymio, found_goal = vision.get_frame()\n",
    "        \n",
    "        if found_thymio and found_goal:\n",
    "            trajectory_frame, trajectory_pos, obstacles_pos, got_trajectory = global_nav.get_trajectory(process_frame, thymio_init_pos, goal_pos)\n",
    "\n",
    "        utils.display_frames(original_frame, process_frame, None) \n",
    "        time.sleep(dt)\n",
    "        \n",
    "except KeyboardInterrupt:\n",
    "    display(\"User interrupted the kernel. Closing the webcam...\")\n",
    "\n",
    "finally:\n",
    "    # Release resources\n",
    "    vision.cleanup_webcam()\n",
    "    time.sleep(1)\n",
    "    if got_trajectory:\n",
    "        display(\"Found Trajectory!\")\n",
    "    time.sleep(1)\n",
    "    utils.display_frames(None, None, trajectory_frame)"
   ]
  },
  {
   "cell_type": "code",
   "execution_count": 6,
   "metadata": {},
   "outputs": [
    {
     "name": "stdout",
     "output_type": "stream",
     "text": [
      "Obstacles [mm]: \n",
      " obstacle6: [[175.1 149.2]\n",
      " [141.4 204.8]\n",
      " [204.7 204.7]]\n",
      " obstacle7: [[213.4  62.9]\n",
      " [207.3 210.6]\n",
      " [218.7 212.9]]\n",
      " obstacle8: [[ 96.6  48.7]\n",
      " [ 95.4 138.9]\n",
      " [107.3 139.2]\n",
      " [107.8  49.3]]\n",
      " obstacle9: [[178.5  13.5]\n",
      " [161.9  19.3]\n",
      " [160.8  39.8]\n",
      " [177.9  53.9]\n",
      " [185.6  51.8]]\n",
      "Trajectory points [mm]:\n",
      " [[156.6  43. ]\n",
      " [177.9  53.9]\n",
      " [213.4  62.9]\n",
      " [261.3 184.1]]\n",
      "Thymio position [mm]:\n",
      " [156.8  43.3]\n",
      "Thymio orientation [deg]:\n",
      " 0.20000000298023224\n",
      "Goal position [mm]:\n",
      " [261.3 184.1]\n"
     ]
    }
   ],
   "source": [
    "if got_trajectory:\n",
    "    obstacles_rounded = {k: np.round(v, 1) for k, v in obstacles_pos.items()}\n",
    "    obstacles_formatted = '\\n '.join([f\"{k}: {v}\" for k, v in obstacles_rounded.items()])\n",
    "    print(f\"Obstacles [mm]: \\n {obstacles_formatted}\")\n",
    "\n",
    "    print(f\"Trajectory points [mm]:\\n {np.round(trajectory_pos, 1)}\")\n",
    "    print(f\"Thymio position [mm]:\\n {np.round(thymio_init_pos, 1)}\")\n",
    "    print(f\"Thymio orientation [deg]:\\n {np.round(np.rad2deg(thymio_init_orientation), 1)}\")\n",
    "    print(f\"Goal position [mm]:\\n {np.round(trajectory_pos[-1], 1)}\")\n",
    "else:\n",
    "    display(\"Could not find a trajectory. Please try again.\")\n",
    "    exit(1)"
   ]
  },
  {
   "cell_type": "code",
   "execution_count": null,
   "metadata": {},
   "outputs": [
    {
     "data": {
      "text/plain": [
       "'User interrupted the kernel. Closing the webcam...'"
      ]
     },
     "metadata": {},
     "output_type": "display_data"
    },
    {
     "name": "stdout",
     "output_type": "stream",
     "text": [
      "Finished at time [s]: 30.200000000000003\n",
      "Camera coverage [%]: 45.033112582781456\n"
     ]
    }
   ],
   "source": [
    "goal_reached = False\n",
    "background_frame = None\n",
    "thymio_old_pos = thymio_init_pos\n",
    "position_measured_history = [] \n",
    "position_kalman_history = []   \n",
    "i = 0\n",
    "covered = 0\n",
    "left_speed = 0\n",
    "right_speed = 0\n",
    "\n",
    "try:\n",
    "    # Try connecting to the webcam\n",
    "    display(f\"Trying to connect to device {webcam_device_id}...\")\n",
    "    if not vision.connect_webcam():\n",
    "        display(\"Could not find webcam on any device ID. Please check connection.\")\n",
    "        exit(1)\n",
    "    else: \n",
    "        display(f\"Successfully connected to device {webcam_device_id}\")\n",
    "    \n",
    "    # If this is the first frame, create a copy of trajectory_frame as background\n",
    "    if trajectory_frame is not None:\n",
    "        background_frame = trajectory_frame.copy()\n",
    "        \n",
    "    while not goal_reached:\n",
    "        i += 1\n",
    "        original_frame, process_frame, thymio_pos, thymio_orientation, _, found_thymio, _= vision.get_frame() # We dont need goal since its already in trajectory_pos\n",
    "        if found_thymio:  # If thymio is detected\n",
    "            position_measured_history.append(thymio_pos)\n",
    "            measurement = np.array([thymio_pos[0], thymio_pos[1], thymio_orientation, scale_speed*(left_speed + right_speed)/2, \n",
    "                                   scale_speed*(left_speed - right_speed)/thymio_size['width']]) # translation speed [mm/s] and angular speed [rad/s]\n",
    "            \n",
    "            if utils.distance(thymio_old_pos, thymio_pos) > kidnap_threshold:\n",
    "                display(\"KIDNAPPING\")\n",
    "                got_trajectory = False\n",
    "                time.sleep(5)\n",
    "                while not got_trajectory:\n",
    "                    original_frame, process_frame, thymio_pos, thymio_orientation, goal_pos, found_thymio, found_goal = vision.get_frame()\n",
    "                    utils.display_frames(original_frame, process_frame, None)\n",
    "                    time.sleep(1)\n",
    "                    # We recompute the trajectory path\n",
    "                    if found_thymio and found_goal:\n",
    "                        up_frame, trajectory_pos, obstacles_pos, got_trajectory = global_nav.get_trajectory(process_frame, thymio_pos, goal_pos)\n",
    "                        background_frame = up_frame.copy()\n",
    "                        local_nav.current_checkpoint = 0\n",
    "                        display(\"New Trajectory Found!\")\n",
    "                        time.sleep(1)\n",
    "                        utils.display_frames(None, None, up_frame)\n",
    "                        time.sleep(1)\n",
    "                        \n",
    "            thymio_old_pos = thymio_pos\n",
    "        else:\n",
    "            covered += 1\n",
    "            \n",
    "        # Get next command using updated position and orientation\n",
    "        command, goal_reached = local_nav.navigate(trajectory_pos, thymio_pos, thymio_orientation, sensor_data())\n",
    "        \n",
    "        if (command['action'] == 'follow_path') or (command['action'] == 'avoid_obstacle'):\n",
    "                left_speed = command['left_speed']\n",
    "                right_speed = command['right_speed']\n",
    "                motor_move(left_speed,right_speed)\n",
    "        else:\n",
    "            motor_stop()\n",
    "\n",
    "        # Update trajectory frame with robot\n",
    "        if background_frame is not None:\n",
    "            current_frame = background_frame.copy()\n",
    "            # Draw trajectory\n",
    "            trajectory_frame = utils.draw_trajectory(current_frame, position_measured_history)\n",
    "            # Draw robot\n",
    "            trajectory_frame = utils.draw_robot(current_frame, thymio_pos, thymio_orientation, thymio_size)\n",
    "\n",
    "        utils.display_frames(original_frame, None, trajectory_frame) \n",
    "        time.sleep(dt)\n",
    "        \n",
    "except KeyboardInterrupt:\n",
    "   display(\"User interrupted the kernel. Closing the webcam...\")\n",
    "finally:\n",
    "    # Release resources\n",
    "    vision.cleanup_webcam()\n",
    "    print(\"Finished at time [s]:\", i * dt)\n",
    "    print(\"Camera coverage [%]:\", covered/i * 100)"
   ]
  },
  {
   "cell_type": "code",
   "execution_count": 19,
   "metadata": {},
   "outputs": [],
   "source": [
    "up_frame = trajectory_frame.copy()"
   ]
  },
  {
   "cell_type": "code",
   "execution_count": 20,
   "metadata": {},
   "outputs": [
    {
     "data": {
      "text/plain": [
       "'KIDNAPPING'"
      ]
     },
     "metadata": {},
     "output_type": "display_data"
    },
    {
     "name": "stdout",
     "output_type": "stream",
     "text": [
      "Simulation interrupted\n",
      "Finished at time [s]: 2.0\n"
     ]
    }
   ],
   "source": [
    "def sensor_data():\n",
    "    return [0, 0, 0, 0, 0, 0, 0, 0]\n",
    "def update_position(thymio_pos, thymio_orientation, left_speed, right_speed, thymio_width, dt):\n",
    "   # Convert speeds to velocities\n",
    "   linear_velocity = (left_speed + right_speed) / 2  \n",
    "   angular_velocity = (left_speed - right_speed) / thymio_width\n",
    "   # Update orientation and position\n",
    "   thymio_orientation += angular_velocity * dt\n",
    "   delta_x = linear_velocity * np.cos(thymio_orientation) * dt\n",
    "   delta_y = linear_velocity * np.sin(thymio_orientation) * dt\n",
    "   \n",
    "   new_pos = (thymio_pos[0] + delta_x, thymio_pos[1] + delta_y)\n",
    "   \n",
    "   return new_pos, thymio_orientation\n",
    "goal_reached = False\n",
    "thymio_pos = thymio_init_pos  # Convert to numpy array\n",
    "thymio_orientation = 0\n",
    "position_measured_history = []\n",
    "i = 0\n",
    "left_speed = 0 \n",
    "right_speed = 0\n",
    "kidnapp_time = 2\n",
    "kidnapp_timer = 0\n",
    "\n",
    "try:\n",
    "    # Try connecting to the webcam\n",
    "    display(f\"Trying to connect to device {webcam_device_id}...\")\n",
    "    if not vision.connect_webcam():\n",
    "        display(\"Could not find webcam on any device ID. Please check connection.\")\n",
    "        exit(1)\n",
    "    else: \n",
    "        display(f\"Successfully connected to device {webcam_device_id}\")\n",
    "        if up_frame is not None:\n",
    "            background_frame = up_frame.copy()\n",
    "        while not goal_reached:\n",
    "            i += 1\n",
    "            kidnapp_timer += dt\n",
    "            # Update position through simulation\n",
    "            new_pos, thymio_orientation = update_position(\n",
    "                thymio_pos, \n",
    "                thymio_orientation,\n",
    "                left_speed, \n",
    "                right_speed,\n",
    "                thymio_size['width'],\n",
    "                dt\n",
    "            )\n",
    "            thymio_pos = np.array(new_pos)  # Convert tuple to numpy array\n",
    "            position_measured_history.append(thymio_pos)\n",
    "            if kidnapp_timer > kidnapp_time:\n",
    "                display(\"KIDNAPPING\")\n",
    "                got_trajectory = False\n",
    "                time.sleep(5)\n",
    "                while not got_trajectory:\n",
    "                    original_frame, process_frame, thymio_pos, thymio_orientation, goal_pos, found_thymio, found_goal = vision.get_frame()\n",
    "                    utils.display_frames(original_frame, process_frame, None)\n",
    "                    # We recompute the trajectory path\n",
    "                    if found_thymio and found_goal:\n",
    "                        up_frame, trajectory_pos, obstacles_pos, got_trajectory = global_nav.get_trajectory(process_frame, thymio_pos, goal_pos)\n",
    "                        background_frame = up_frame.copy()\n",
    "                        local_nav.current_checkpoint = 0\n",
    "                        display(\"New Trajectory Found!\")\n",
    "                        time.sleep(1)\n",
    "                        utils.display_frames(None, None, up_frame)\n",
    "                        time.sleep(1)\n",
    "                        kidnapp_timer = -100\n",
    "                        \n",
    "            command, goal_reached = local_nav.navigate(trajectory_pos, thymio_pos, thymio_orientation, sensor_data())\n",
    "            if command['action'] in ['follow_path', 'avoid_obstacle']:\n",
    "                left_speed = command['left_speed'] \n",
    "                right_speed = command['right_speed']\n",
    "            else:\n",
    "                left_speed = right_speed = 0\n",
    "            if background_frame is not None:\n",
    "                current_frame = background_frame.copy()\n",
    "                up_frame = utils.draw_trajectory(current_frame, position_measured_history)\n",
    "                up_frame = utils.draw_robot(current_frame, thymio_pos, thymio_orientation, thymio_size)\n",
    "                utils.display_frames(None, None, up_frame)\n",
    "                  \n",
    "            time.sleep(dt)\n",
    "except KeyboardInterrupt:\n",
    "    local_nav.current_checkpoint = 0\n",
    "    print(\"Simulation interrupted\")\n",
    "finally:\n",
    "    vision.cleanup_webcam()\n",
    "    local_nav.current_checkpoint = 0\n",
    "    print(\"Finished at time [s]:\", i * dt)"
   ]
  },
  {
   "cell_type": "code",
   "execution_count": 20,
   "metadata": {},
   "outputs": [],
   "source": [
    "await tdmclient.notebook.stop()"
   ]
  }
 ],
 "metadata": {
  "kernelspec": {
   "display_name": "thymio-project",
   "language": "python",
   "name": "python3"
  },
  "language_info": {
   "codemirror_mode": {
    "name": "ipython",
    "version": 3
   },
   "file_extension": ".py",
   "mimetype": "text/x-python",
   "name": "python",
   "nbconvert_exporter": "python",
   "pygments_lexer": "ipython3",
   "version": "3.12.2"
  }
 },
 "nbformat": 4,
 "nbformat_minor": 2
}
