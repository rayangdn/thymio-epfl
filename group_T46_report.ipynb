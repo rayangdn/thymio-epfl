{
 "cells": [
  {
   "cell_type": "code",
   "execution_count": 2,
   "metadata": {},
   "outputs": [],
   "source": [
    "import yaml\n",
    "import cv2\n",
    "import matplotlib.pyplot as plt\n",
    "import numpy as np\n",
    "from IPython.display import clear_output, Image, display\n",
    "import time\n"
   ]
  },
  {
   "cell_type": "code",
   "execution_count": 3,
   "metadata": {},
   "outputs": [],
   "source": [
    "#import scripts files\n",
    "from scripts.vision import Vision\n",
    "from scripts.global_nav import GlobalNav\n",
    "from scripts.local_nav import LocalNav\n",
    "from utils.utils import *"
   ]
  },
  {
   "cell_type": "code",
   "execution_count": 19,
   "metadata": {},
   "outputs": [],
   "source": [
    "# Load the configuration file\n",
    "with open('config/config.yaml', 'r') as file:\n",
    "    config = yaml.safe_load(file)\n",
    "\n",
    "# Controller configuration\n",
    "angle_tolerance = config['controller']['angle_tolerance']\n",
    "distance_tolerance = config['controller']['distance_tolerance']\n",
    "scale_rotation_speed = config['controller']['scale_rotation_speed']\n",
    "max_rotation_speed = config['controller']['max_rotation_speed']\n",
    "scale_translation_speed = config['controller']['scale_translation_speed']\n",
    "min_translation_speed = config['controller']['min_translation_speed']\n",
    "max_translation_speed = config['controller']['max_translation_speed']\n",
    "\n",
    "# World configuration\n",
    "world_width = config['world']['width']\n",
    "world_height = config['world']['height']\n",
    "\n",
    "# Thymio configuration\n",
    "thymio_width = config['thymio']['size']['width']\n",
    "thymio_length = config['thymio']['size']['length']\n",
    "\n",
    "# Webcam configuration\n",
    "webcam_device_id = config['webcam']['device_id']\n",
    "webcam_matrix = np.array(config['webcam']['matrix'])\n",
    "webcam_distortion = np.array(config['webcam']['distortion'])\n",
    "webcam_resolution = config['webcam']['resolution']\n",
    "webcam_padding = config['webcam']['padding']\n"
   ]
  },
  {
   "cell_type": "code",
   "execution_count": 20,
   "metadata": {},
   "outputs": [
    {
     "name": "stdout",
     "output_type": "stream",
     "text": [
      "Vision Initialized\n"
     ]
    }
   ],
   "source": [
    "vision = Vision(\n",
    "    device_id=webcam_device_id,\n",
    "    camera_matrix=webcam_matrix,\n",
    "    dist_coeffs=webcam_distortion,\n",
    "    resolution=webcam_resolution,\n",
    "    padding=webcam_padding,\n",
    "    world_width=world_width,\n",
    "    world_height=world_height\n",
    ")"
   ]
  },
  {
   "cell_type": "code",
   "execution_count": 25,
   "metadata": {},
   "outputs": [
    {
     "name": "stdout",
     "output_type": "stream",
     "text": [
      "Streaming stopped\n"
     ]
    }
   ],
   "source": [
    "def display_frames(frame):\n",
    "    frame_rgb = cv2.cvtColor(frame, cv2.COLOR_BGR2RGB)\n",
    "    _, buffer = cv2.imencode('.jpg', frame_rgb)\n",
    "    display(Image(data=buffer.tobytes()))\n",
    "    clear_output(wait=True)\n",
    "\n",
    "try:\n",
    "    # Try connecting to the webcam\n",
    "    print(f\"Trying to connect to device {webcam_device_id}...\")\n",
    "    if not vision.connect_webcam():\n",
    "        print(\"Could not find webcam on any device ID. Please check connection.\")\n",
    "        exit(1)\n",
    "    else: \n",
    "        print(f\"Successfully connected to device {webcam_device_id}\")\n",
    "        \n",
    "    while True:\n",
    "        origin_frame, process_frame, _, _ = vision.get_frame()\n",
    "        \n",
    "        if process_frame is not None:\n",
    "            # Display just the process frame\n",
    "            display_frames(process_frame)\n",
    "        else:\n",
    "            display_frames(origin_frame)\n",
    "        # Add a small delay to control frame rate\n",
    "        time.sleep(0.1)\n",
    "        \n",
    "        # Check if kernel interrupt was requested\n",
    "        try:\n",
    "            if get_ipython().kernel.is_interrupted():\n",
    "                break\n",
    "        except:\n",
    "            pass\n",
    "      \n",
    "except KeyboardInterrupt:\n",
    "    print(\"Streaming stopped\")\n",
    "finally:\n",
    "    # Release resources\n",
    "    vision.cleanup_webcam()"
   ]
  }
 ],
 "metadata": {
  "kernelspec": {
   "display_name": "thymio-project",
   "language": "python",
   "name": "python3"
  },
  "language_info": {
   "codemirror_mode": {
    "name": "ipython",
    "version": 3
   },
   "file_extension": ".py",
   "mimetype": "text/x-python",
   "name": "python",
   "nbconvert_exporter": "python",
   "pygments_lexer": "ipython3",
   "version": "3.12.7"
  }
 },
 "nbformat": 4,
 "nbformat_minor": 2
}
