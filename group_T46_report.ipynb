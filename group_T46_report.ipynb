{
 "cells": [
  {
   "cell_type": "code",
   "execution_count": 24,
   "metadata": {},
   "outputs": [],
   "source": [
    "import yaml\n",
    "import numpy as np\n",
    "import time\n",
    "import tdmclient.notebook"
   ]
  },
  {
   "cell_type": "code",
   "execution_count": 25,
   "metadata": {},
   "outputs": [],
   "source": [
    "#import scripts files\n",
    "from scripts.vision import Vision\n",
    "from scripts.global_nav import GlobalNav\n",
    "from scripts.local_nav import LocalNav\n",
    "from utils import utils"
   ]
  },
  {
   "cell_type": "code",
   "execution_count": 27,
   "metadata": {},
   "outputs": [],
   "source": [
    "# Load the configuration file\n",
    "with open('config/config.yaml', 'r') as file:\n",
    "    config = yaml.safe_load(file)\n",
    "    \n",
    "# Simulation configuration\n",
    "simulation_enabled = config['simulation']\n",
    "\n",
    "# Controller configuration\n",
    "angle_tolerance = config['controller']['angle_tolerance'] #degrees\n",
    "distance_tolerance = config['controller']['distance_tolerance'] #mm\n",
    "scale_rotation_speed = config['controller']['scale_rotation_speed'] \n",
    "max_rotation_speed = config['controller']['max_rotation_speed'] \n",
    "scale_translation_speed = config['controller']['scale_translation_speed'] \n",
    "min_translation_speed = config['controller']['min_translation_speed'] \n",
    "max_translation_speed = config['controller']['max_translation_speed'] \n",
    "\n",
    "# World configuration\n",
    "world_width = config['world']['width'] #mm\n",
    "world_height = config['world']['height'] #mm\n",
    "obstacle_min_area = config['world']['obstacle_min_area'] #mm²\n",
    "aruco_size = config['world']['aruco_size'] #mm\n",
    "\n",
    "# Thymio configuration\n",
    "thymio_size = config['thymio']['size'] #mm\n",
    "security_margin = config['thymio']['margin'] #mm\n",
    "\n",
    "# Webcam configuration\n",
    "webcam_device_id = config['webcam']['device_id']\n",
    "webcam_matrix = np.array(config['webcam']['matrix'])\n",
    "webcam_distortion = np.array(config['webcam']['distortion'])\n",
    "webcam_resolution = config['webcam']['resolution']\n",
    "webcam_padding = config['webcam']['padding']\n",
    "scale_factor = webcam_resolution[1] / world_width\n"
   ]
  },
  {
   "cell_type": "code",
   "execution_count": 28,
   "metadata": {},
   "outputs": [],
   "source": [
    "if not simulation_enabled :\n",
    "    await tdmclient.notebook.start()\n",
    "    print(\"Successfully connected to Thymio.\")"
   ]
  },
  {
   "cell_type": "code",
   "execution_count": 29,
   "metadata": {},
   "outputs": [
    {
     "name": "stdout",
     "output_type": "stream",
     "text": [
      "Thymio functions defined correctly.\n"
     ]
    }
   ],
   "source": [
    "@tdmclient.notebook.sync_var\n",
    "def motor_move(left,right):\n",
    "    global motor_left_target, motor_right_target\n",
    "    motor_left_target = left\n",
    "    motor_right_target = right\n",
    "    \n",
    "@tdmclient.notebook.sync_var\n",
    "def motor_stop():\n",
    "    global motor_left_target,motor_right_target\n",
    "    motor_left_target = 0\n",
    "    motor_right_target = 0\n",
    "    \n",
    "@tdmclient.notebook.sync_var\n",
    "def sensor_data():\n",
    "    global prox_horizontal\n",
    "    return prox_horizontal.copy()\n",
    "\n",
    "print(\"Thymio functions defined correctly.\")"
   ]
  },
  {
   "cell_type": "code",
   "execution_count": 30,
   "metadata": {},
   "outputs": [],
   "source": [
    "motor_move(200,200)\n",
    "time.sleep(1)\n",
    "motor_stop()"
   ]
  },
  {
   "cell_type": "code",
   "execution_count": 31,
   "metadata": {},
   "outputs": [
    {
     "name": "stdout",
     "output_type": "stream",
     "text": [
      "Vision Initialized\n",
      "GlobalNav Initialized\n",
      "LocalNav Initialized\n"
     ]
    }
   ],
   "source": [
    "vision = Vision(\n",
    "    device_id=webcam_device_id,\n",
    "    camera_matrix=webcam_matrix,\n",
    "    dist_coeffs=webcam_distortion,\n",
    "    resolution=webcam_resolution,\n",
    "    padding=webcam_padding,\n",
    "    scale_factor=scale_factor,\n",
    "    world_width=world_width,\n",
    "    world_height=world_height\n",
    "    \n",
    ")\n",
    "global_nav = GlobalNav(\n",
    "    world_width=world_width,\n",
    "    world_height=world_height,\n",
    "    obstacle_min_area=obstacle_min_area,\n",
    "    thymio_size=thymio_size,\n",
    "    security_margin=security_margin,\n",
    "    scale_factor=scale_factor,\n",
    "    aruco_size=aruco_size\n",
    "    \n",
    ")\n",
    "\n",
    "local_nav = LocalNav(\n",
    "    angle_threshold=angle_tolerance,\n",
    "    distance_threshold=distance_tolerance,\n",
    "    scale_rotation_speed=scale_rotation_speed,\n",
    "    max_rotation_speed=max_rotation_speed,\n",
    "    scale_translation_speed=scale_translation_speed,\n",
    "    min_translation_speed=min_translation_speed,\n",
    "    max_translation_speed=max_translation_speed\n",
    ")"
   ]
  },
  {
   "cell_type": "code",
   "execution_count": 32,
   "metadata": {},
   "outputs": [],
   "source": [
    "# Global variables\n",
    "got_trajectory = False\n",
    "trajectory_frame = None\n",
    "trajectory_pos_mm = None\n",
    "obstacles_pos_mm = None\n",
    "thymio_init_pos_mm = None\n",
    "thymio_init_orientation_rad = None"
   ]
  },
  {
   "cell_type": "code",
   "execution_count": 33,
   "metadata": {},
   "outputs": [
    {
     "data": {
      "text/plain": [
       "'Trying to connect to device 2...'"
      ]
     },
     "metadata": {},
     "output_type": "display_data"
    },
    {
     "name": "stdout",
     "output_type": "stream",
     "text": [
      "Error: Could not open camera.\n"
     ]
    },
    {
     "name": "stderr",
     "output_type": "stream",
     "text": [
      "[ WARN:0@385.525] global cap_v4l.cpp:999 open VIDEOIO(V4L2:/dev/video2): can't open camera by index\n",
      "[ERROR:0@385.637] global obsensor_uvc_stream_channel.cpp:158 getStreamChannelGroup Camera index out of range\n"
     ]
    },
    {
     "data": {
      "text/plain": [
       "'Could not find webcam on any device ID. Please check connection.'"
      ]
     },
     "metadata": {},
     "output_type": "display_data"
    },
    {
     "name": "stdout",
     "output_type": "stream",
     "text": [
      "Error: Couldn't read frame.\n"
     ]
    },
    {
     "ename": "TypeError",
     "evalue": "cannot unpack non-iterable NoneType object",
     "output_type": "error",
     "traceback": [
      "\u001b[0;31m---------------------------------------------------------------------------\u001b[0m",
      "\u001b[0;31mTypeError\u001b[0m                                 Traceback (most recent call last)",
      "Cell \u001b[0;32mIn[33], line 11\u001b[0m\n\u001b[1;32m      8\u001b[0m     display(\u001b[38;5;124mf\u001b[39m\u001b[38;5;124m\"\u001b[39m\u001b[38;5;124mSuccessfully connected to device \u001b[39m\u001b[38;5;132;01m{\u001b[39;00mwebcam_device_id\u001b[38;5;132;01m}\u001b[39;00m\u001b[38;5;124m\"\u001b[39m)\n\u001b[1;32m     10\u001b[0m \u001b[38;5;28;01mwhile\u001b[39;00m \u001b[38;5;129;01mnot\u001b[39;00m got_trajectory:\n\u001b[0;32m---> 11\u001b[0m     original_frame, process_frame, thymio_init_pos_pixels, thymio_init_orientation_rad, goal_pos_pixels\u001b[38;5;241m=\u001b[39m vision\u001b[38;5;241m.\u001b[39mget_frame()\n\u001b[1;32m     13\u001b[0m     trajectory_frame, trajectory_pos_mm, obstacles_pos_mm, got_trajectory \u001b[38;5;241m=\u001b[39m global_nav\u001b[38;5;241m.\u001b[39mget_trajectory(process_frame, thymio_init_pos_pixels, goal_pos_pixels)\n\u001b[1;32m     15\u001b[0m     \u001b[38;5;66;03m# Convert thymio pos from pixels to mm\u001b[39;00m\n",
      "\u001b[0;31mTypeError\u001b[0m: cannot unpack non-iterable NoneType object"
     ]
    }
   ],
   "source": [
    "try:\n",
    "    # Try connecting to the webcam\n",
    "    display(f\"Trying to connect to device {webcam_device_id}...\")\n",
    "    if not vision.connect_webcam():\n",
    "        display(\"Could not find webcam on any device ID. Please check connection.\")\n",
    "        exit(1)\n",
    "    else: \n",
    "        display(f\"Successfully connected to device {webcam_device_id}\")\n",
    "        \n",
    "    while not got_trajectory:\n",
    "        original_frame, process_frame, thymio_init_pos_pixels, thymio_init_orientation_rad, goal_pos_pixels= vision.get_frame()\n",
    "        \n",
    "        trajectory_frame, trajectory_pos_mm, obstacles_pos_mm, got_trajectory = global_nav.get_trajectory(process_frame, thymio_init_pos_pixels, goal_pos_pixels)\n",
    "\n",
    "        # Convert thymio pos from pixels to mm\n",
    "        if np.any(thymio_init_pos_pixels != 0):  # If thymio is detected\n",
    "            thymio_init_pos_mm = np.array([\n",
    "                utils.pixels_to_mm(thymio_init_pos_pixels[0], scale_factor), \n",
    "                utils.pixels_to_mm(thymio_init_pos_pixels[1], scale_factor)\n",
    "            ])\n",
    "            \n",
    "        utils.display_frames(original_frame, process_frame, None) \n",
    "        time.sleep(0.1)\n",
    "        \n",
    "except KeyboardInterrupt:\n",
    "    display(\"User interrupted the kernel. Closing the webcam...\")\n",
    "\n",
    "finally:\n",
    "    # Release resources\n",
    "    vision.cleanup_webcam()\n",
    "    time.sleep(1)\n",
    "    utils.display_frames(None, None, trajectory_frame)"
   ]
  },
  {
   "cell_type": "code",
   "execution_count": 1,
   "metadata": {},
   "outputs": [
    {
     "ename": "NameError",
     "evalue": "name 'obstacles_pos_mm' is not defined",
     "output_type": "error",
     "traceback": [
      "\u001b[0;31m---------------------------------------------------------------------------\u001b[0m",
      "\u001b[0;31mNameError\u001b[0m                                 Traceback (most recent call last)",
      "Cell \u001b[0;32mIn[1], line 1\u001b[0m\n\u001b[0;32m----> 1\u001b[0m obstacles_rounded \u001b[38;5;241m=\u001b[39m {k: np\u001b[38;5;241m.\u001b[39mround(v, \u001b[38;5;241m1\u001b[39m) \u001b[38;5;28;01mfor\u001b[39;00m k, v \u001b[38;5;129;01min\u001b[39;00m \u001b[43mobstacles_pos_mm\u001b[49m\u001b[38;5;241m.\u001b[39mitems()}\n\u001b[1;32m      2\u001b[0m obstacles_formatted \u001b[38;5;241m=\u001b[39m \u001b[38;5;124m'\u001b[39m\u001b[38;5;130;01m\\n\u001b[39;00m\u001b[38;5;124m \u001b[39m\u001b[38;5;124m'\u001b[39m\u001b[38;5;241m.\u001b[39mjoin([\u001b[38;5;124mf\u001b[39m\u001b[38;5;124m\"\u001b[39m\u001b[38;5;132;01m{\u001b[39;00mk\u001b[38;5;132;01m}\u001b[39;00m\u001b[38;5;124m: \u001b[39m\u001b[38;5;132;01m{\u001b[39;00mv\u001b[38;5;132;01m}\u001b[39;00m\u001b[38;5;124m\"\u001b[39m \u001b[38;5;28;01mfor\u001b[39;00m k, v \u001b[38;5;129;01min\u001b[39;00m obstacles_rounded\u001b[38;5;241m.\u001b[39mitems()])\n\u001b[1;32m      3\u001b[0m \u001b[38;5;28mprint\u001b[39m(\u001b[38;5;124mf\u001b[39m\u001b[38;5;124m\"\u001b[39m\u001b[38;5;124mObstacles [mm]: \u001b[39m\u001b[38;5;130;01m\\n\u001b[39;00m\u001b[38;5;124m \u001b[39m\u001b[38;5;132;01m{\u001b[39;00mobstacles_formatted\u001b[38;5;132;01m}\u001b[39;00m\u001b[38;5;124m\"\u001b[39m)\n",
      "\u001b[0;31mNameError\u001b[0m: name 'obstacles_pos_mm' is not defined"
     ]
    }
   ],
   "source": [
    "obstacles_rounded = {k: np.round(v, 1) for k, v in obstacles_pos_mm.items()}\n",
    "obstacles_formatted = '\\n '.join([f\"{k}: {v}\" for k, v in obstacles_rounded.items()])\n",
    "print(f\"Obstacles [mm]: \\n {obstacles_formatted}\")\n",
    "\n",
    "print(f\"Trajectory points [mm]:\\n {np.round(trajectory_pos_mm, 1)}\")\n",
    "print(f\"Thymio position [mm]:\\n {np.round(thymio_init_pos_mm, 1)}\")\n",
    "print(f\"Thymio orientation [deg]:\\n {np.round(np.rad2deg(thymio_init_orientation_rad), 1)}\")\n",
    "print(f\"Goal position [mm]:\\n {np.round(trajectory_pos_mm[-1], 1)}\")"
   ]
  },
  {
   "cell_type": "code",
   "execution_count": 3,
   "metadata": {},
   "outputs": [
    {
     "ename": "NameError",
     "evalue": "name 'thymio_init_pos_mm' is not defined",
     "output_type": "error",
     "traceback": [
      "\u001b[0;31m---------------------------------------------------------------------------\u001b[0m",
      "\u001b[0;31mNameError\u001b[0m                                 Traceback (most recent call last)",
      "Cell \u001b[0;32mIn[3], line 4\u001b[0m\n\u001b[1;32m      2\u001b[0m background_frame \u001b[38;5;241m=\u001b[39m \u001b[38;5;28;01mNone\u001b[39;00m\n\u001b[1;32m      3\u001b[0m position_history \u001b[38;5;241m=\u001b[39m []  \n\u001b[0;32m----> 4\u001b[0m thymio_current_pos_mm \u001b[38;5;241m=\u001b[39m \u001b[43mthymio_init_pos_mm\u001b[49m\n\u001b[1;32m      5\u001b[0m thymio_current_orientation_rad \u001b[38;5;241m=\u001b[39m thymio_init_orientation_rad\n\u001b[1;32m      7\u001b[0m \u001b[38;5;28;01mtry\u001b[39;00m:\n\u001b[1;32m      8\u001b[0m     \u001b[38;5;66;03m# Try connecting to the webcam\u001b[39;00m\n",
      "\u001b[0;31mNameError\u001b[0m: name 'thymio_init_pos_mm' is not defined"
     ]
    }
   ],
   "source": [
    "goal_reached = False\n",
    "background_frame = None\n",
    "position_history = []  \n",
    "thymio_current_pos_mm = thymio_init_pos_mm\n",
    "thymio_current_orientation_rad = thymio_init_orientation_rad\n",
    "\n",
    "try:\n",
    "    # Try connecting to the webcam\n",
    "    display(f\"Trying to connect to device {webcam_device_id}...\")\n",
    "    if not vision.connect_webcam():\n",
    "        display(\"Could not find webcam on any device ID. Please check connection.\")\n",
    "        exit(1)\n",
    "    else: \n",
    "        display(f\"Successfully connected to device {webcam_device_id}\")\n",
    "    \n",
    "    # If this is the first frame, create a copy of trajectory_frame as background\n",
    "    if trajectory_frame is not None:\n",
    "        background_frame = trajectory_frame.copy()\n",
    "        \n",
    "    while not goal_reached:\n",
    "        if not simulation_enabled:\n",
    "            original_frame, process_frame, thymio_current_pos_pixels, thymio_current_orientation_rad, _= vision.get_frame()\n",
    "            if np.any(thymio_current_pos_pixels != 0):  # If thymio is detected\n",
    "                thymio_current_pos_mm = np.array([\n",
    "                    utils.pixels_to_mm(thymio_current_pos_pixels[0], scale_factor), \n",
    "                    utils.pixels_to_mm(thymio_current_pos_pixels[1], scale_factor)\n",
    "                ])\n",
    "            else :\n",
    "                utils.display_frames(original_frame, None, None) \n",
    "                time.sleep(0.01)\n",
    "                continue\n",
    "        else:\n",
    "            original_frame, process_frame, _, _, _= vision.get_frame()\n",
    "            thymio_current_pos_mm = thymio_current_pos_mm\n",
    "            thymio_current_orientation_rad = thymio_current_orientation_rad\n",
    "            \n",
    "        # Get next command using updated position and orientation\n",
    "        command, goal_reached = local_nav.navigate(trajectory_pos_mm, thymio_current_pos_mm, thymio_current_orientation_rad)\n",
    "        \n",
    "        # Simulate movement\n",
    "        new_position, new_orientation = utils.simulate_robot_movement(\n",
    "            thymio_current_pos_mm, thymio_current_orientation_rad, command\n",
    "        )\n",
    "        \n",
    "        # Update current position and orientation\n",
    "        thymio_current_pos_mm = new_position\n",
    "        thymio_current_orientation_rad = new_orientation\n",
    "\n",
    "        # Convert new_position from mm to pixels for drawing and store it\n",
    "        new_position_pixels = np.array([utils.mm_to_pixels(new_position[0], scale_factor), utils.mm_to_pixels(new_position[1], scale_factor)])\n",
    "        position_history.append(new_position_pixels)\n",
    "\n",
    "        # Update trajectory frame with robot\n",
    "        if background_frame is not None:\n",
    "            current_frame = background_frame.copy()\n",
    "            \n",
    "            # Draw trajectory\n",
    "            trajectory_frame = utils.draw_trajectory(current_frame, position_history)\n",
    "            \n",
    "            # Draw the current robot position\n",
    "            thymio_size_pixels = np.array([\n",
    "                utils.mm_to_pixels(thymio_size['width'], scale_factor), \n",
    "                utils.mm_to_pixels(thymio_size['length'], scale_factor)\n",
    "            ])\n",
    "            trajectory_frame = utils.draw_robot(current_frame, new_position_pixels, new_orientation, thymio_size_pixels)\n",
    "\n",
    "        utils.display_frames(None, None, trajectory_frame) \n",
    "        time.sleep(0.01)\n",
    "        \n",
    "except KeyboardInterrupt:\n",
    "   display(\"User interrupted the kernel. Closing the webcam...\")\n",
    "finally:\n",
    "    # Release resources\n",
    "    vision.cleanup_webcam()"
   ]
  },
  {
   "cell_type": "code",
   "execution_count": null,
   "metadata": {},
   "outputs": [],
   "source": []
  }
 ],
 "metadata": {
  "kernelspec": {
   "display_name": "thymio-project",
   "language": "python",
   "name": "python3"
  },
  "language_info": {
   "codemirror_mode": {
    "name": "ipython",
    "version": 3
   },
   "file_extension": ".py",
   "mimetype": "text/x-python",
   "name": "python",
   "nbconvert_exporter": "python",
   "pygments_lexer": "ipython3",
   "version": "3.12.2"
  }
 },
 "nbformat": 4,
 "nbformat_minor": 2
}
