{
 "cells": [
  {
   "cell_type": "code",
   "execution_count": 1,
   "metadata": {},
   "outputs": [],
   "source": [
    "import yaml\n",
    "import cv2\n",
    "import matplotlib.pyplot as plt\n",
    "import numpy as np"
   ]
  },
  {
   "cell_type": "code",
   "execution_count": 2,
   "metadata": {},
   "outputs": [],
   "source": [
    "#import scripts files\n",
    "from scripts.vision import Vision\n",
    "from scripts.global_nav import GlobalNav\n",
    "from scripts.local_nav import LocalNav\n",
    "from utils.utils import *"
   ]
  },
  {
   "cell_type": "code",
   "execution_count": 6,
   "metadata": {},
   "outputs": [],
   "source": [
    "# Load the configuration file\n",
    "with open('config/config.yaml', 'r') as file:\n",
    "    config = yaml.safe_load(file)\n",
    "\n",
    "# Controller configuration\n",
    "angle_tolerance = config['controller']['angle_tolerance']\n",
    "distance_tolerance = config['controller']['distance_tolerance']\n",
    "scale_rotation_speed = config['controller']['scale_rotation_speed']\n",
    "max_rotation_speed = config['controller']['max_rotation_speed']\n",
    "scale_translation_speed = config['controller']['scale_translation_speed']\n",
    "min_translation_speed = config['controller']['min_translation_speed']\n",
    "max_translation_speed = config['controller']['max_translation_speed']\n",
    "\n",
    "# World configuration\n",
    "world_width = config['world']['width']\n",
    "world_height = config['world']['height']\n",
    "\n",
    "# Thymio configuration\n",
    "thymio_width = config['thymio']['size']['width']\n",
    "thymio_length = config['thymio']['size']['length']\n",
    "\n",
    "# Webcam configuration\n",
    "webcam_device_id = config['webcam']['device_id']\n",
    "webcam_matrix = np.array(config['webcam']['matrix'])\n",
    "webcam_distortion = np.array(config['webcam']['distortion'])\n",
    "webcam_resolution = config['webcam']['resolution']\n",
    "webcam_padding = config['webcam']['padding']\n"
   ]
  },
  {
   "cell_type": "code",
   "execution_count": 7,
   "metadata": {},
   "outputs": [
    {
     "name": "stdout",
     "output_type": "stream",
     "text": [
      "Vision Initialized\n"
     ]
    }
   ],
   "source": [
    "vision = Vision(\n",
    "    device_id=webcam_device_id,\n",
    "    camera_matrix=webcam_matrix,\n",
    "    dist_coeffs=webcam_distortion,\n",
    "    resolution=webcam_resolution,\n",
    "    padding=webcam_padding,\n",
    "    world_width=world_width,\n",
    "    world_height=world_height\n",
    ")"
   ]
  },
  {
   "cell_type": "code",
   "execution_count": 8,
   "metadata": {},
   "outputs": [
    {
     "name": "stdout",
     "output_type": "stream",
     "text": [
      "Trying to connect to device 0...\n",
      "Successfully connected to device 0\n"
     ]
    }
   ],
   "source": [
    "# Try connecting to the webcam\n",
    "print(f\"Trying to connect to device {webcam_device_id}...\")\n",
    "if not vision.connect_webcam():\n",
    "    print(\"Could not find webcam on any device ID. Please check connection.\")\n",
    "    exit(1)\n",
    "else: \n",
    "    print(f\"Successfully connected to device {webcam_device_id}\")"
   ]
  },
  {
   "cell_type": "code",
   "execution_count": 12,
   "metadata": {},
   "outputs": [
    {
     "ename": "",
     "evalue": "",
     "output_type": "error",
     "traceback": [
      "\u001b[1;31mThe Kernel crashed while executing code in the current cell or a previous cell. \n",
      "\u001b[1;31mPlease review the code in the cell(s) to identify a possible cause of the failure. \n",
      "\u001b[1;31mClick <a href='https://aka.ms/vscodeJupyterKernelCrash'>here</a> for more info. \n",
      "\u001b[1;31mView Jupyter <a href='command:jupyter.viewOutput'>log</a> for further details."
     ]
    }
   ],
   "source": [
    "while True:\n",
    "    frame, process_frame, thymio_position, goal_position = vision.get_frame()\n",
    "    \n",
    "    original_view = frame.copy()\n",
    "    if process_frame is not None:\n",
    "        process_view = process_frame.copy()\n",
    "    trajectory_view = frame.copy()  # You can add trajectory visualization here\n",
    "    final_view = frame.copy()  # You can add final processing here\n",
    "    \n",
    "    # Add labels to each view\n",
    "    original_view = add_label(original_view, \"Original View\")\n",
    "    process_view = add_label(original_view, \"Process View\")\n",
    "    trajectory_view = add_label(trajectory_view, \"Trajectory View\")\n",
    "    final_view = add_label(final_view, \"Final View\")\n",
    "    \n",
    "    # Calculate dimensions for the combined frame\n",
    "    height = frame.shape[0]\n",
    "    width = frame.shape[1]\n",
    "    \n",
    "    # Create a blank canvas for 2x2 grid\n",
    "    combined_frame = np.zeros((height * 2, width * 2, 3), dtype=np.uint8)\n",
    "    \n",
    "    # Place all four views in 2x2 grid\n",
    "    # Top left\n",
    "    combined_frame[0:height, 0:width] = original_view\n",
    "    # Top right\n",
    "    combined_frame[0:height, width:] = process_view\n",
    "    # Bottom left\n",
    "    combined_frame[height:, 0:width] = trajectory_view\n",
    "    # Bottom right\n",
    "    combined_frame[height:, width:] = final_view\n",
    "    \n",
    "    # Show the combined frame\n",
    "    cv2.imshow('Quad Stream', combined_frame)\n",
    "\n",
    "vision.cleanup_webcam()"
   ]
  },
  {
   "cell_type": "code",
   "execution_count": 23,
   "metadata": {},
   "outputs": [
    {
     "ename": "KeyboardInterrupt",
     "evalue": "",
     "output_type": "error",
     "traceback": [
      "\u001b[0;31m---------------------------------------------------------------------------\u001b[0m",
      "\u001b[0;31mKeyboardInterrupt\u001b[0m                         Traceback (most recent call last)",
      "Cell \u001b[0;32mIn[23], line 11\u001b[0m\n\u001b[1;32m      7\u001b[0m     \u001b[38;5;28;01mreturn\u001b[39;00m image\n\u001b[1;32m      9\u001b[0m \u001b[38;5;28;01mwhile\u001b[39;00m \u001b[38;5;28;01mTrue\u001b[39;00m:\n\u001b[1;32m     10\u001b[0m     \u001b[38;5;66;03m# Read frame from camera\u001b[39;00m\n\u001b[0;32m---> 11\u001b[0m     ret, frame \u001b[38;5;241m=\u001b[39m \u001b[43mcamera\u001b[49m\u001b[38;5;241;43m.\u001b[39;49m\u001b[43mread\u001b[49m\u001b[43m(\u001b[49m\u001b[43m)\u001b[49m\n\u001b[1;32m     12\u001b[0m     \u001b[38;5;28;01mif\u001b[39;00m \u001b[38;5;129;01mnot\u001b[39;00m ret:\n\u001b[1;32m     13\u001b[0m         \u001b[38;5;28;01mbreak\u001b[39;00m\n",
      "\u001b[0;31mKeyboardInterrupt\u001b[0m: "
     ]
    }
   ],
   "source": [
    "\n",
    "\n",
    "def add_label(image, text):\n",
    "    # Add black background for text\n",
    "    cv2.rectangle(image, (0, 0), (200, 30), (0, 0, 0), -1)\n",
    "    # Add white text\n",
    "    cv2.putText(image, text, (10, 20), cv2.FONT_HERSHEY_SIMPLEX, \n",
    "                0.7, (255, 255, 255), 2)\n",
    "    return image\n",
    "\n",
    "while True:\n",
    "    # Read frame from camera\n",
    "    ret, frame = camera.read()\n",
    "    if not ret:\n",
    "        break\n",
    "    \n",
    "    # Create copies for different views\n",
    "    original_view = frame.copy()\n",
    "    process_view = frame.copy()  # You can add processing here\n",
    "    trajectory_view = frame.copy()  # You can add trajectory visualization here\n",
    "    final_view = frame.copy()  # You can add final processing here\n",
    "    \n",
    "    # Add labels to each view\n",
    "    original_view = add_label(original_view, \"Original View\")\n",
    "    process_view = add_label(process_view, \"Process View\")\n",
    "    trajectory_view = add_label(trajectory_view, \"Trajectory View\")\n",
    "    final_view = add_label(final_view, \"Final View\")\n",
    "    \n",
    "    # Calculate dimensions for the combined frame\n",
    "    height = frame.shape[0]\n",
    "    width = frame.shape[1]\n",
    "    \n",
    "    # Create a blank canvas for 2x2 grid\n",
    "    combined_frame = np.zeros((height * 2, width * 2, 3), dtype=np.uint8)\n",
    "    \n",
    "    # Place all four views in 2x2 grid\n",
    "    # Top left\n",
    "    combined_frame[0:height, 0:width] = original_view\n",
    "    # Top right\n",
    "    combined_frame[0:height, width:] = process_view\n",
    "    # Bottom left\n",
    "    combined_frame[height:, 0:width] = trajectory_view\n",
    "    # Bottom right\n",
    "    combined_frame[height:, width:] = final_view\n",
    "    \n",
    "    # Show the combined frame\n",
    "    cv2.imshow('Quad Stream', combined_frame)\n",
    "    \n",
    "    # Break the loop when 'q' is pressed\n",
    "    if cv2.waitKey(1) & 0xFF == ord('q'):\n",
    "        break\n",
    "\n",
    "# Release resources\n",
    "camera.release()\n",
    "cv2.destroyAllWindows()"
   ]
  },
  {
   "cell_type": "code",
   "execution_count": 7,
   "metadata": {},
   "outputs": [],
   "source": [
    "camera.release()"
   ]
  },
  {
   "cell_type": "code",
   "execution_count": null,
   "metadata": {},
   "outputs": [],
   "source": []
  }
 ],
 "metadata": {
  "kernelspec": {
   "display_name": "thymio-project",
   "language": "python",
   "name": "python3"
  },
  "language_info": {
   "codemirror_mode": {
    "name": "ipython",
    "version": 3
   },
   "file_extension": ".py",
   "mimetype": "text/x-python",
   "name": "python",
   "nbconvert_exporter": "python",
   "pygments_lexer": "ipython3",
   "version": "3.12.7"
  }
 },
 "nbformat": 4,
 "nbformat_minor": 2
}
