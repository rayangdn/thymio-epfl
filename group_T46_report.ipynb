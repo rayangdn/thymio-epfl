{
 "cells": [
  {
   "cell_type": "code",
   "execution_count": 12,
   "metadata": {},
   "outputs": [
    {
     "name": "stdout",
     "output_type": "stream",
     "text": [
      "Requirement already satisfied: numpy>=1.24.0 in /home/rayann/miniconda3/envs/thymio-project/lib/python3.12/site-packages (from -r requirements.txt (line 1)) (2.0.0)\n",
      "Requirement already satisfied: opencv-python>=4.8.0 in /home/rayann/miniconda3/envs/thymio-project/lib/python3.12/site-packages (from -r requirements.txt (line 2)) (4.10.0.84)\n",
      "Requirement already satisfied: opencv-contrib-python>=4.8.0 in /home/rayann/miniconda3/envs/thymio-project/lib/python3.12/site-packages (from -r requirements.txt (line 3)) (4.10.0.84)\n",
      "Requirement already satisfied: PyYAML>=6.0.1 in /home/rayann/miniconda3/envs/thymio-project/lib/python3.12/site-packages (from -r requirements.txt (line 4)) (6.0.2)\n",
      "Requirement already satisfied: matplotlib>=3.4.3 in /home/rayann/miniconda3/envs/thymio-project/lib/python3.12/site-packages (from -r requirements.txt (line 5)) (3.9.2)\n",
      "Requirement already satisfied: pyvisgraph>=0.2.1 in /home/rayann/miniconda3/envs/thymio-project/lib/python3.12/site-packages (from -r requirements.txt (line 6)) (0.2.1)\n",
      "Requirement already satisfied: tqdm>=4.65.0 in /home/rayann/miniconda3/envs/thymio-project/lib/python3.12/site-packages (from -r requirements.txt (line 7)) (4.67.0)\n",
      "Requirement already satisfied: docutils>=0.20.1 in /home/rayann/miniconda3/envs/thymio-project/lib/python3.12/site-packages (from -r requirements.txt (line 8)) (0.21.2)\n",
      "Requirement already satisfied: ipywidgets>=8.0.0 in /home/rayann/miniconda3/envs/thymio-project/lib/python3.12/site-packages (from -r requirements.txt (line 9)) (8.1.5)\n",
      "Requirement already satisfied: tdmclient>=0.1.21 in /home/rayann/miniconda3/envs/thymio-project/lib/python3.12/site-packages (from -r requirements.txt (line 11)) (0.1.21)\n",
      "Requirement already satisfied: tk-tools>=0.16.0 in /home/rayann/miniconda3/envs/thymio-project/lib/python3.12/site-packages (from -r requirements.txt (line 12)) (0.16.0)\n",
      "Requirement already satisfied: contourpy>=1.0.1 in /home/rayann/miniconda3/envs/thymio-project/lib/python3.12/site-packages (from matplotlib>=3.4.3->-r requirements.txt (line 5)) (1.3.1)\n",
      "Requirement already satisfied: cycler>=0.10 in /home/rayann/miniconda3/envs/thymio-project/lib/python3.12/site-packages (from matplotlib>=3.4.3->-r requirements.txt (line 5)) (0.12.1)\n",
      "Requirement already satisfied: fonttools>=4.22.0 in /home/rayann/miniconda3/envs/thymio-project/lib/python3.12/site-packages (from matplotlib>=3.4.3->-r requirements.txt (line 5)) (4.55.0)\n",
      "Requirement already satisfied: kiwisolver>=1.3.1 in /home/rayann/miniconda3/envs/thymio-project/lib/python3.12/site-packages (from matplotlib>=3.4.3->-r requirements.txt (line 5)) (1.4.7)\n",
      "Requirement already satisfied: packaging>=20.0 in /home/rayann/miniconda3/envs/thymio-project/lib/python3.12/site-packages (from matplotlib>=3.4.3->-r requirements.txt (line 5)) (24.2)\n",
      "Requirement already satisfied: pillow>=8 in /home/rayann/miniconda3/envs/thymio-project/lib/python3.12/site-packages (from matplotlib>=3.4.3->-r requirements.txt (line 5)) (10.2.0)\n",
      "Requirement already satisfied: pyparsing>=2.3.1 in /home/rayann/miniconda3/envs/thymio-project/lib/python3.12/site-packages (from matplotlib>=3.4.3->-r requirements.txt (line 5)) (3.2.0)\n",
      "Requirement already satisfied: python-dateutil>=2.7 in /home/rayann/miniconda3/envs/thymio-project/lib/python3.12/site-packages (from matplotlib>=3.4.3->-r requirements.txt (line 5)) (2.9.0)\n",
      "Requirement already satisfied: comm>=0.1.3 in /home/rayann/miniconda3/envs/thymio-project/lib/python3.12/site-packages (from ipywidgets>=8.0.0->-r requirements.txt (line 9)) (0.2.2)\n",
      "Requirement already satisfied: ipython>=6.1.0 in /home/rayann/miniconda3/envs/thymio-project/lib/python3.12/site-packages (from ipywidgets>=8.0.0->-r requirements.txt (line 9)) (8.29.0)\n",
      "Requirement already satisfied: traitlets>=4.3.1 in /home/rayann/miniconda3/envs/thymio-project/lib/python3.12/site-packages (from ipywidgets>=8.0.0->-r requirements.txt (line 9)) (5.14.3)\n",
      "Requirement already satisfied: widgetsnbextension~=4.0.12 in /home/rayann/miniconda3/envs/thymio-project/lib/python3.12/site-packages (from ipywidgets>=8.0.0->-r requirements.txt (line 9)) (4.0.13)\n",
      "Requirement already satisfied: jupyterlab-widgets~=3.0.12 in /home/rayann/miniconda3/envs/thymio-project/lib/python3.12/site-packages (from ipywidgets>=8.0.0->-r requirements.txt (line 9)) (3.0.13)\n",
      "Requirement already satisfied: websockets in /home/rayann/miniconda3/envs/thymio-project/lib/python3.12/site-packages (from tdmclient>=0.1.21->-r requirements.txt (line 11)) (14.1)\n",
      "Requirement already satisfied: zeroconf in /home/rayann/miniconda3/envs/thymio-project/lib/python3.12/site-packages (from tdmclient>=0.1.21->-r requirements.txt (line 11)) (0.136.0)\n",
      "Requirement already satisfied: engineering-notation>=0.5 in /home/rayann/miniconda3/envs/thymio-project/lib/python3.12/site-packages (from tk-tools>=0.16.0->-r requirements.txt (line 12)) (0.10.0)\n",
      "Requirement already satisfied: decorator in /home/rayann/miniconda3/envs/thymio-project/lib/python3.12/site-packages (from ipython>=6.1.0->ipywidgets>=8.0.0->-r requirements.txt (line 9)) (5.1.1)\n",
      "Requirement already satisfied: jedi>=0.16 in /home/rayann/miniconda3/envs/thymio-project/lib/python3.12/site-packages (from ipython>=6.1.0->ipywidgets>=8.0.0->-r requirements.txt (line 9)) (0.19.2)\n",
      "Requirement already satisfied: matplotlib-inline in /home/rayann/miniconda3/envs/thymio-project/lib/python3.12/site-packages (from ipython>=6.1.0->ipywidgets>=8.0.0->-r requirements.txt (line 9)) (0.1.7)\n",
      "Requirement already satisfied: prompt-toolkit<3.1.0,>=3.0.41 in /home/rayann/miniconda3/envs/thymio-project/lib/python3.12/site-packages (from ipython>=6.1.0->ipywidgets>=8.0.0->-r requirements.txt (line 9)) (3.0.48)\n",
      "Requirement already satisfied: pygments>=2.4.0 in /home/rayann/miniconda3/envs/thymio-project/lib/python3.12/site-packages (from ipython>=6.1.0->ipywidgets>=8.0.0->-r requirements.txt (line 9)) (2.18.0)\n",
      "Requirement already satisfied: stack-data in /home/rayann/miniconda3/envs/thymio-project/lib/python3.12/site-packages (from ipython>=6.1.0->ipywidgets>=8.0.0->-r requirements.txt (line 9)) (0.6.2)\n",
      "Requirement already satisfied: pexpect>4.3 in /home/rayann/miniconda3/envs/thymio-project/lib/python3.12/site-packages (from ipython>=6.1.0->ipywidgets>=8.0.0->-r requirements.txt (line 9)) (4.9.0)\n",
      "Requirement already satisfied: six>=1.5 in /home/rayann/miniconda3/envs/thymio-project/lib/python3.12/site-packages (from python-dateutil>=2.7->matplotlib>=3.4.3->-r requirements.txt (line 5)) (1.16.0)\n",
      "Requirement already satisfied: ifaddr>=0.1.7 in /home/rayann/miniconda3/envs/thymio-project/lib/python3.12/site-packages (from zeroconf->tdmclient>=0.1.21->-r requirements.txt (line 11)) (0.2.0)\n",
      "Requirement already satisfied: parso<0.9.0,>=0.8.4 in /home/rayann/miniconda3/envs/thymio-project/lib/python3.12/site-packages (from jedi>=0.16->ipython>=6.1.0->ipywidgets>=8.0.0->-r requirements.txt (line 9)) (0.8.4)\n",
      "Requirement already satisfied: ptyprocess>=0.5 in /home/rayann/miniconda3/envs/thymio-project/lib/python3.12/site-packages (from pexpect>4.3->ipython>=6.1.0->ipywidgets>=8.0.0->-r requirements.txt (line 9)) (0.7.0)\n",
      "Requirement already satisfied: wcwidth in /home/rayann/miniconda3/envs/thymio-project/lib/python3.12/site-packages (from prompt-toolkit<3.1.0,>=3.0.41->ipython>=6.1.0->ipywidgets>=8.0.0->-r requirements.txt (line 9)) (0.2.13)\n",
      "Requirement already satisfied: executing>=1.2.0 in /home/rayann/miniconda3/envs/thymio-project/lib/python3.12/site-packages (from stack-data->ipython>=6.1.0->ipywidgets>=8.0.0->-r requirements.txt (line 9)) (2.1.0)\n",
      "Requirement already satisfied: asttokens>=2.1.0 in /home/rayann/miniconda3/envs/thymio-project/lib/python3.12/site-packages (from stack-data->ipython>=6.1.0->ipywidgets>=8.0.0->-r requirements.txt (line 9)) (2.4.1)\n",
      "Requirement already satisfied: pure-eval in /home/rayann/miniconda3/envs/thymio-project/lib/python3.12/site-packages (from stack-data->ipython>=6.1.0->ipywidgets>=8.0.0->-r requirements.txt (line 9)) (0.2.3)\n"
     ]
    }
   ],
   "source": [
    "!pip install -r requirements.txt"
   ]
  },
  {
   "cell_type": "code",
   "execution_count": 1,
   "metadata": {},
   "outputs": [],
   "source": [
    "import yaml\n",
    "import numpy as np\n",
    "import time\n",
    "import tdmclient.notebook"
   ]
  },
  {
   "cell_type": "code",
   "execution_count": 2,
   "metadata": {},
   "outputs": [],
   "source": [
    "#import scripts files\n",
    "from scripts.vision import Vision\n",
    "from scripts.global_nav import GlobalNav\n",
    "from scripts.local_nav import LocalNav\n",
    "from utils import utils"
   ]
  },
  {
   "cell_type": "code",
   "execution_count": 3,
   "metadata": {},
   "outputs": [],
   "source": [
    "# Load the configuration file\n",
    "with open('config/config.yaml', 'r') as file:\n",
    "    config = yaml.safe_load(file)\n",
    "    \n",
    "# Simulation configuration\n",
    "simulation_enabled = config['simulation']\n",
    "\n",
    "# Controller configuration\n",
    "angle_tolerance = np.deg2rad(config['controller']['angle_tolerance']) \n",
    "distance_tolerance = config['controller']['distance_tolerance'] #mm\n",
    "scale_rotation_speed = config['controller']['scale_rotation_speed'] \n",
    "max_rotation_speed = config['controller']['max_rotation_speed'] \n",
    "scale_translation_speed = config['controller']['scale_translation_speed'] \n",
    "min_translation_speed = config['controller']['min_translation_speed'] \n",
    "max_translation_speed = config['controller']['max_translation_speed'] \n",
    "\n",
    "# World configuration\n",
    "world_width = config['world']['width'] #mm\n",
    "world_height = config['world']['height'] #mm\n",
    "obstacle_min_area = config['world']['obstacle_min_area'] #mm²\n",
    "aruco_size = config['world']['aruco_size'] #mm\n",
    "\n",
    "# Thymio configuration\n",
    "thymio_size = config['thymio']['size'] #mm\n",
    "security_margin = config['thymio']['margin'] #mm\n",
    "\n",
    "# Webcam configuration\n",
    "webcam_device_id = config['webcam']['device_id']\n",
    "webcam_matrix = np.array(config['webcam']['matrix'])\n",
    "webcam_distortion = np.array(config['webcam']['distortion'])\n",
    "webcam_resolution = config['webcam']['resolution']\n",
    "webcam_padding = config['webcam']['padding']\n",
    "scale_factor = webcam_resolution[1] / world_width\n"
   ]
  },
  {
   "cell_type": "code",
   "execution_count": 4,
   "metadata": {},
   "outputs": [
    {
     "name": "stdout",
     "output_type": "stream",
     "text": [
      "Successfully connected to Thymio.\n"
     ]
    }
   ],
   "source": [
    "if not simulation_enabled:\n",
    "    await tdmclient.notebook.start()\n",
    "    print(\"Successfully connected to Thymio.\")"
   ]
  },
  {
   "cell_type": "code",
   "execution_count": 5,
   "metadata": {},
   "outputs": [
    {
     "name": "stdout",
     "output_type": "stream",
     "text": [
      "Thymio functions defined correctly.\n"
     ]
    }
   ],
   "source": [
    "@tdmclient.notebook.sync_var\n",
    "def motor_move(left,right):\n",
    "    global motor_left_target, motor_right_target\n",
    "    motor_left_target = left\n",
    "    motor_right_target = right\n",
    "    \n",
    "@tdmclient.notebook.sync_var\n",
    "def motor_stop():\n",
    "    global motor_left_target,motor_right_target\n",
    "    motor_left_target = 0\n",
    "    motor_right_target = 0\n",
    "    \n",
    "@tdmclient.notebook.sync_var\n",
    "def sensor_data():\n",
    "    global prox_horizontal\n",
    "    return prox_horizontal.copy()\n",
    "\n",
    "print(\"Thymio functions defined correctly.\")"
   ]
  },
  {
   "cell_type": "code",
   "execution_count": 12,
   "metadata": {},
   "outputs": [],
   "source": [
    "if not simulation_enabled:\n",
    "    motor_move(10,10)\n",
    "    time.sleep(1)\n",
    "    motor_stop()"
   ]
  },
  {
   "cell_type": "code",
   "execution_count": 7,
   "metadata": {},
   "outputs": [
    {
     "name": "stdout",
     "output_type": "stream",
     "text": [
      "Vision Initialized\n",
      "GlobalNav Initialized\n",
      "LocalNav Initialized\n"
     ]
    }
   ],
   "source": [
    "vision = Vision(\n",
    "    device_id=webcam_device_id,\n",
    "    camera_matrix=webcam_matrix,\n",
    "    dist_coeffs=webcam_distortion,\n",
    "    resolution=webcam_resolution,\n",
    "    padding=webcam_padding,\n",
    "    scale_factor=scale_factor,\n",
    "    world_width=world_width,\n",
    "    world_height=world_height\n",
    "    \n",
    ")\n",
    "global_nav = GlobalNav(\n",
    "    world_width=world_width,\n",
    "    world_height=world_height,\n",
    "    obstacle_min_area=obstacle_min_area,\n",
    "    thymio_size=thymio_size,\n",
    "    security_margin=security_margin,\n",
    "    scale_factor=scale_factor,\n",
    "    aruco_size=aruco_size\n",
    "    \n",
    ")\n",
    "\n",
    "local_nav = LocalNav(\n",
    "    angle_threshold=angle_tolerance,\n",
    "    distance_threshold=distance_tolerance,\n",
    "    scale_rotation_speed=scale_rotation_speed,\n",
    "    max_rotation_speed=max_rotation_speed,\n",
    "    scale_translation_speed=scale_translation_speed,\n",
    "    min_translation_speed=min_translation_speed,\n",
    "    max_translation_speed=max_translation_speed\n",
    ")"
   ]
  },
  {
   "cell_type": "code",
   "execution_count": 8,
   "metadata": {},
   "outputs": [
    {
     "data": {
      "image/jpeg": "[encoded data removed]",
      "text/plain": [
       "<IPython.core.display.Image object>"
      ]
     },
     "metadata": {},
     "output_type": "display_data"
    }
   ],
   "source": [
    "# Global variables\n",
    "got_trajectory = False\n",
    "trajectory_frame = None\n",
    "trajectory_pos_mm = None\n",
    "obstacles_pos_mm = None\n",
    "thymio_init_pos_mm = None\n",
    "thymio_init_orientation_rad = None\n",
    "\n",
    "try:\n",
    "    # Try connecting to the webcam\n",
    "    display(f\"Trying to connect to device {webcam_device_id}...\")\n",
    "    if not vision.connect_webcam():\n",
    "        display(\"Could not find webcam on any device ID. Please check connection.\")\n",
    "        exit(1)\n",
    "    else: \n",
    "        display(f\"Successfully connected to device {webcam_device_id}\")\n",
    "        \n",
    "    while not got_trajectory:\n",
    "        original_frame, process_frame, thymio_init_pos_pixels, thymio_init_orientation_rad, goal_pos_pixels= vision.get_frame()\n",
    "        \n",
    "        trajectory_frame, trajectory_pos_mm, obstacles_pos_mm, got_trajectory = global_nav.get_trajectory(process_frame, thymio_init_pos_pixels, goal_pos_pixels)\n",
    "\n",
    "        # Convert thymio pos from pixels to mm\n",
    "        if np.any(thymio_init_pos_pixels != 0):  # If thymio is detected\n",
    "            thymio_init_pos_mm = np.array([\n",
    "                utils.pixels_to_mm(thymio_init_pos_pixels[0], scale_factor), \n",
    "                utils.pixels_to_mm(thymio_init_pos_pixels[1], scale_factor)\n",
    "            ])\n",
    "            \n",
    "        utils.display_frames(original_frame, process_frame, None) \n",
    "        time.sleep(0.1)\n",
    "        \n",
    "except KeyboardInterrupt:\n",
    "    display(\"User interrupted the kernel. Closing the webcam...\")\n",
    "\n",
    "finally:\n",
    "    # Release resources\n",
    "    vision.cleanup_webcam()\n",
    "    time.sleep(1)\n",
    "    utils.display_frames(None, None, trajectory_frame)"
   ]
  },
  {
   "cell_type": "code",
   "execution_count": 10,
   "metadata": {},
   "outputs": [
    {
     "name": "stdout",
     "output_type": "stream",
     "text": [
      "Obstacles [mm]: \n",
      " obstacle31: [[485.1  40.9]\n",
      " [473.8 615.5]\n",
      " [607.  621.5]\n",
      " [609.   50. ]]\n",
      "Trajectory points [mm]:\n",
      " [[ 50.6 137.5]\n",
      " [224.6  18.9]\n",
      " [281.9  23.1]\n",
      " [445.4 155.6]]\n",
      "Thymio position [mm]:\n",
      " [ 50.6 137.5]\n",
      "Thymio orientation [deg]:\n",
      " 14.699999809265137\n",
      "Goal position [mm]:\n",
      " [445.4 155.6]\n"
     ]
    }
   ],
   "source": [
    "obstacles_rounded = {k: np.round(v, 1) for k, v in obstacles_pos_mm.items()}\n",
    "obstacles_formatted = '\\n '.join([f\"{k}: {v}\" for k, v in obstacles_rounded.items()])\n",
    "print(f\"Obstacles [mm]: \\n {obstacles_formatted}\")\n",
    "\n",
    "print(f\"Trajectory points [mm]:\\n {np.round(trajectory_pos_mm, 1)}\")\n",
    "print(f\"Thymio position [mm]:\\n {np.round(thymio_init_pos_mm, 1)}\")\n",
    "print(f\"Thymio orientation [deg]:\\n {np.round(np.rad2deg(thymio_init_orientation_rad), 1)}\")\n",
    "print(f\"Goal position [mm]:\\n {np.round(trajectory_pos_mm[-1], 1)}\")"
   ]
  },
  {
   "cell_type": "code",
   "execution_count": 11,
   "metadata": {},
   "outputs": [
    {
     "data": {
      "text/plain": [
       "'User interrupted the kernel. Closing the webcam...'"
      ]
     },
     "metadata": {},
     "output_type": "display_data"
    }
   ],
   "source": [
    "goal_reached = False\n",
    "background_frame = None\n",
    "position_history = []  \n",
    "thymio_current_pos_mm = thymio_init_pos_mm\n",
    "thymio_current_orientation_rad = thymio_init_orientation_rad\n",
    "\n",
    "try:\n",
    "    # Try connecting to the webcam\n",
    "    display(f\"Trying to connect to device {webcam_device_id}...\")\n",
    "    if not vision.connect_webcam():\n",
    "        display(\"Could not find webcam on any device ID. Please check connection.\")\n",
    "        exit(1)\n",
    "    else: \n",
    "        display(f\"Successfully connected to device {webcam_device_id}\")\n",
    "    \n",
    "    # If this is the first frame, create a copy of trajectory_frame as background\n",
    "    if trajectory_frame is not None:\n",
    "        background_frame = trajectory_frame.copy()\n",
    "        \n",
    "    while not goal_reached:\n",
    "        if not simulation_enabled:\n",
    "            original_frame, process_frame, thymio_current_pos_pixels, thymio_current_orientation_rad, _= vision.get_frame()\n",
    "            if np.any(thymio_current_pos_pixels != 0):  # If thymio is detected\n",
    "                thymio_current_pos_mm = np.array([\n",
    "                    utils.pixels_to_mm(thymio_current_pos_pixels[0], scale_factor), \n",
    "                    utils.pixels_to_mm(thymio_current_pos_pixels[1], scale_factor)\n",
    "                ])\n",
    "            else :\n",
    "                utils.display_frames(original_frame, None, None) \n",
    "                time.sleep(0.01)\n",
    "                continue\n",
    "        else:\n",
    "            original_frame, process_frame, _, _, _= vision.get_frame()\n",
    "            \n",
    "        # Get next command using updated position and orientation\n",
    "        command, goal_reached = local_nav.navigate(trajectory_pos_mm, thymio_current_pos_mm, thymio_current_orientation_rad)\n",
    "        if simulation_enabled:\n",
    "            # Simulate movement\n",
    "            new_position, new_orientation = utils.simulate_robot_movement(\n",
    "                thymio_current_pos_mm, thymio_current_orientation_rad, command\n",
    "            )\n",
    "            # Update current position and orientation\n",
    "            thymio_current_pos_mm = new_position\n",
    "            thymio_current_orientation_rad = new_orientation\n",
    "        else:\n",
    "            if command['action'] == 'move_and_rotate':\n",
    "                left_speed = command['left_speed']\n",
    "                right_speed = command['right_speed']\n",
    "                motor_move(left_speed,right_speed)\n",
    "            else:\n",
    "                motor_stop()\n",
    "        #display(command)\n",
    "        #Convert new_position from mm to pixels for drawing and store it\n",
    "        new_position_pixels = np.array([utils.mm_to_pixels(thymio_current_pos_mm[0], scale_factor), utils.mm_to_pixels(thymio_current_pos_mm[1], scale_factor)])\n",
    "        position_history.append(new_position_pixels)\n",
    "\n",
    "        # Update trajectory frame with robot\n",
    "        if background_frame is not None:\n",
    "            current_frame = background_frame.copy()\n",
    "            \n",
    "            # Draw trajectory\n",
    "            trajectory_frame = utils.draw_trajectory(current_frame, position_history)\n",
    "            \n",
    "            # Draw the current robot position\n",
    "            thymio_size_pixels = np.array([\n",
    "                utils.mm_to_pixels(thymio_size['width'], scale_factor), \n",
    "                utils.mm_to_pixels(thymio_size['length'], scale_factor)\n",
    "            ])\n",
    "            trajectory_frame = utils.draw_robot(current_frame, new_position_pixels, thymio_current_orientation_rad, thymio_size_pixels)\n",
    "\n",
    "        utils.display_frames(None, process_frame, trajectory_frame) \n",
    "        time.sleep(0.01)\n",
    "        \n",
    "except KeyboardInterrupt:\n",
    "   display(\"User interrupted the kernel. Closing the webcam...\")\n",
    "finally:\n",
    "    # Release resources\n",
    "    vision.cleanup_webcam()"
   ]
  },
  {
   "cell_type": "code",
   "execution_count": 20,
   "metadata": {},
   "outputs": [],
   "source": [
    "await tdmclient.notebook.stop()"
   ]
  },
  {
   "cell_type": "code",
   "execution_count": null,
   "metadata": {},
   "outputs": [],
   "source": []
  }
 ],
 "metadata": {
  "kernelspec": {
   "display_name": "thymio-project",
   "language": "python",
   "name": "python3"
  },
  "language_info": {
   "codemirror_mode": {
    "name": "ipython",
    "version": 3
   },
   "file_extension": ".py",
   "mimetype": "text/x-python",
   "name": "python",
   "nbconvert_exporter": "python",
   "pygments_lexer": "ipython3",
   "version": "3.12.2"
  }
 },
 "nbformat": 4,
 "nbformat_minor": 2
}
