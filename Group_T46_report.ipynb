{
 "cells": [
  {
   "cell_type": "markdown",
   "metadata": {},
   "source": [
    "## Code Implemented"
   ]
  },
  {
   "cell_type": "markdown",
   "metadata": {},
   "source": [
    "### Import Libraries"
   ]
  },
  {
   "cell_type": "code",
   "execution_count": 4,
   "metadata": {},
   "outputs": [],
   "source": [
    "# External imports\n",
    "import numpy as np\n",
    "import time\n",
    "import tdmclient.notebook\n",
    "\n",
    "# Internal imports\n",
    "from scripts.vision import Vision\n",
    "from scripts.global_navigation import GlobalNav\n",
    "from scripts.local_navigation import LocalNav\n",
    "from scripts.extended_kalman_filter import ExtendedKalmanFilter\n",
    "from utils import utils"
   ]
  },
  {
   "cell_type": "markdown",
   "metadata": {},
   "source": [
    "### General Configuration"
   ]
  },
  {
   "cell_type": "code",
   "execution_count": 7,
   "metadata": {},
   "outputs": [],
   "source": [
    "# Time step configuration\n",
    "DT = 0.1  # s\n",
    "\n",
    "# Webcam configuration\n",
    "DEVICE_ID = 2\n",
    "\n",
    "# World configuration\n",
    "WORLD_WIDTH = 920  # mm\n",
    "WORLD_HEIGHT = 430 # mm\n",
    "\n",
    "# Thymio configuration\n",
    "THYMIO_WIDTH = 110  # mm\n",
    "THYMIO_LENGTH = 110  # mm$\n",
    "THYMIO_WHEEL_BASE = 90  # mm\n",
    "THYMIO_WHEEL_RADIUS = 20  # mm\n",
    "SPEED_TO_MM_S = 2.9466 # Found experimentally (cf run_tests.ipynb)\n",
    "\n",
    "# Kidnapping configuration\n",
    "KIDNAP_THRESHOLD = 40 # mm"
   ]
  },
  {
   "cell_type": "code",
   "execution_count": 13,
   "metadata": {},
   "outputs": [
    {
     "name": "stdout",
     "output_type": "stream",
     "text": [
      "Successfully connected to Thymio.\n"
     ]
    }
   ],
   "source": [
    "await tdmclient.notebook.start()\n",
    "print(\"Successfully connected to Thymio.\")"
   ]
  },
  {
   "cell_type": "code",
   "execution_count": 4,
   "metadata": {},
   "outputs": [
    {
     "name": "stdout",
     "output_type": "stream",
     "text": [
      "Thymio functions defined correctly.\n"
     ]
    }
   ],
   "source": [
    "@tdmclient.notebook.sync_var\n",
    "def motor_move(left,right):\n",
    "    global motor_left_target, motor_right_target\n",
    "    motor_left_target = left\n",
    "    motor_right_target = right\n",
    "    \n",
    "@tdmclient.notebook.sync_var\n",
    "def motor_stop():\n",
    "    global motor_left_target,motor_right_target\n",
    "    motor_left_target = 0\n",
    "    motor_right_target = 0\n",
    "    \n",
    "@tdmclient.notebook.sync_var\n",
    "def sensor_data():\n",
    "    global prox_horizontal\n",
    "    return prox_horizontal.copy()\n",
    "\n",
    "@tdmclient.notebook.sync_var\n",
    "def get_motor_speed():\n",
    "    global motor_left_speed, motor_right_speed\n",
    "    return motor_left_speed, motor_right_speed\n",
    "\n",
    "print(\"Thymio functions defined correctly.\")"
   ]
  },
  {
   "cell_type": "code",
   "execution_count": 5,
   "metadata": {},
   "outputs": [],
   "source": [
    "motor_move(100, 100)\n",
    "time.sleep(1)\n",
    "motor_stop()"
   ]
  },
  {
   "cell_type": "code",
   "execution_count": null,
   "metadata": {},
   "outputs": [
    {
     "name": "stdout",
     "output_type": "stream",
     "text": [
      "Vision initialized correctly.\n",
      "GlobalNav initialized correctly.\n",
      "LocalNav initialized correctly.\n",
      "EKF initialized correctly.\n"
     ]
    }
   ],
   "source": [
    "vision = Vision(DEVICE_ID)\n",
    "global_nav = GlobalNav()\n",
    "local_nav = LocalNav()\n",
    "ekf = ExtendedKalmanFilter(DT, THYMIO_WHEEL_BASE)"
   ]
  },
  {
   "cell_type": "code",
   "execution_count": null,
   "metadata": {},
   "outputs": [
    {
     "name": "stdout",
     "output_type": "stream",
     "text": [
      "Webcam disconnected correctly.\n"
     ]
    }
   ],
   "source": [
    "try:\n",
    "    # Try connecting to the webcam\n",
    "    print(f\"Trying to connect to device {DEVICE_ID}...\")\n",
    "    if not vision.connect_webcam():\n",
    "        print(\"Could not find webcam on any device ID. Please check connection.\")\n",
    "        exit(1)\n",
    "    else: \n",
    "        print(f\"Successfully connected to device {DEVICE_ID}\")\n",
    "    start_time = time.time()\n",
    "    while time.time() - start_time < 3:\n",
    "        original_frame = vision._get_original_frame()\n",
    "        utils.display_frames(original_frame, None, None)\n",
    "except KeyboardInterrupt:\n",
    "    pass\n",
    "finally:\n",
    "    vision.disconnect_webcam()"
   ]
  },
  {
   "cell_type": "code",
   "execution_count": null,
   "metadata": {},
   "outputs": [
    {
     "name": "stdout",
     "output_type": "stream",
     "text": [
      "Webcam disconnected correctly.\n",
      "\n",
      "=== Obstacles Information ===\n",
      "Number of obstacles detected: 0\n",
      "Obstacle coordinates [mm]:\n",
      "\n",
      "=== Thymio Information ===\n",
      "Position [mm]: [98.8, 135.4]\n",
      "Orientation [°]: -29.9\n",
      "\n",
      "=== Goal Information ===\n",
      "Position [mm]: [746.2, 201.0]\n",
      "\n",
      "=== Trajectory Information ===\n",
      "Number of waypoints: 2\n",
      "Waypoint path [mm]:\n",
      "Checkpoint 1: [98.8, 135.4]\n",
      "Checkpoint 2: [746.2, 201.0]\n"
     ]
    }
   ],
   "source": [
    "\n",
    "# Display variables\n",
    "obstacles_img = None\n",
    "trajectory_frame = None\n",
    "\n",
    "# Positions variables\n",
    "thymio_pos = None\n",
    "goal_pos = None\n",
    "trajectory_pos = None\n",
    "obstacles_pos = None\n",
    "\n",
    "# Flags variables\n",
    "found_thymio = False\n",
    "found_goal = False\n",
    "found_trajectory = False\n",
    "\n",
    "try:\n",
    "    # Try connecting to the webcam\n",
    "    print(f\"Trying to connect to device {DEVICE_ID}...\")\n",
    "    if not vision.connect_webcam():\n",
    "        print(\"Could not find webcam on any device ID. Please check connection.\")\n",
    "        exit(1)\n",
    "    else: \n",
    "        print(f\"Successfully connected to device {DEVICE_ID}\")\n",
    "    \n",
    "    input(\"Press Enter to calculate the perspective vision...\")\n",
    "    \n",
    "    # Get the perspective parameters for processing frame and return the scale factor for pixels to mm conversion\n",
    "    vision.get_perspective_parameters(WORLD_WIDTH, WORLD_HEIGHT)\n",
    "    \n",
    "    # Display the original and processed frames\n",
    "    original_frame, process_frame = vision.get_frame()\n",
    "    utils.display_frames(original_frame, process_frame, None)\n",
    "    \n",
    "    input(\"Press Enter to get the obstacles position...\")\n",
    "    \n",
    "    # Get the obstacles position\n",
    "    _, process_frame = vision.get_frame()\n",
    "    obstacles_pos, obstacles_img = vision.get_obstacles_position(process_frame)\n",
    "    \n",
    "    input(\"Press Enter when thymio and goal position have been placed on the map...\")\n",
    "    \n",
    "    # Get the goal position and thymio position\n",
    "    while not found_thymio:\n",
    "        _, process_frame = vision.get_frame()\n",
    "        frame, thymio_pos, found_thymio = vision.get_thymio_position(process_frame)\n",
    "        time.sleep(DT)\n",
    "    \n",
    "    print(\"Thymio detected!\")\n",
    "    print(f\"Thymio position [mm]: {np.round(thymio_pos[:2], 1)}\")\n",
    "    print(f\"Thymio orientation [°]: {np.degrees(thymio_pos[2])}\")\n",
    "    \n",
    "    while not found_goal:\n",
    "        _, process_frame = vision.get_frame()\n",
    "        frame, goal_pos, found_goal = vision.get_goal_position(process_frame)\n",
    "        time.sleep(DT)\n",
    "    print(\"Goal detected!\")\n",
    "    print(f\"Goal position [mm]: {np.round(goal_pos, 1)}\")\n",
    "    \n",
    "    utils.display_frames(None, frame, None)\n",
    "    \n",
    "    input(\"Press Enter to get the trajectory from thymio to goal position...\")\n",
    "    \n",
    "    # Get the trajectory from thymio to goal position\n",
    "    while not found_trajectory:\n",
    "        _, frame = vision.get_frame()\n",
    "        trajectory_frame, trajectory_pos, found_trajectory = global_nav.get_trajectory(obstacles_img, thymio_pos, goal_pos, obstacles_pos, \n",
    "                                                                                       THYMIO_WIDTH, vision.scale_factor)    \n",
    "        time.sleep(DT)\n",
    "         \n",
    "    # Initialize the EKF\n",
    "    ekf.initialize_state(np.array([thymio_pos[0], thymio_pos[1], thymio_pos[2], 0.0, 0.0])) # x, y, theta, v, omega\n",
    "    ekf.set_mode(covered=False) # Set the mode to uncovered\n",
    "    \n",
    "    utils.display_frames(None, frame, trajectory_frame)\n",
    "    \n",
    "    input(\"Press Enter to get overall information...\")\n",
    "    \n",
    "except Exception as e:\n",
    "    print(f\"An error occurred: {str(e)}\")\n",
    "    exit(1)\n",
    "except KeyboardInterrupt:\n",
    "    print(\"User interrupted the kernel. Closing the webcam...\")\n",
    "\n",
    "finally:\n",
    "    # Release resources\n",
    "    vision.disconnect_webcam()\n",
    "    utils.print_status(obstacles_pos, thymio_pos, goal_pos, trajectory_pos)"
   ]
  },
  {
   "cell_type": "code",
   "execution_count": null,
   "metadata": {},
   "outputs": [
    {
     "ename": "NameError",
     "evalue": "name 'thymio_pos' is not defined",
     "output_type": "error",
     "traceback": [
      "\u001b[0;31m---------------------------------------------------------------------------\u001b[0m",
      "\u001b[0;31mNameError\u001b[0m                                 Traceback (most recent call last)",
      "Cell \u001b[0;32mIn[8], line 5\u001b[0m\n\u001b[1;32m      2\u001b[0m current_frame \u001b[38;5;241m=\u001b[39m \u001b[38;5;28;01mNone\u001b[39;00m\n\u001b[1;32m      4\u001b[0m \u001b[38;5;66;03m# Positions variables\u001b[39;00m\n\u001b[0;32m----> 5\u001b[0m thymio_old_pos \u001b[38;5;241m=\u001b[39m \u001b[43mthymio_pos\u001b[49m\n\u001b[1;32m      6\u001b[0m position_measured_history \u001b[38;5;241m=\u001b[39m []\n\u001b[1;32m      7\u001b[0m filtered_position_history \u001b[38;5;241m=\u001b[39m [] \n",
      "\u001b[0;31mNameError\u001b[0m: name 'thymio_pos' is not defined"
     ]
    }
   ],
   "source": [
    "\n",
    "# Display variables\n",
    "current_frame = None\n",
    "\n",
    "# Positions variables\n",
    "thymio_old_pos = thymio_pos\n",
    "position_measured_history = []\n",
    "filtered_position_history = [] \n",
    "\n",
    "# Flags variables\n",
    "goal_reached = False\n",
    "\n",
    "# Control variables\n",
    "i = 0\n",
    "covered = 0\n",
    "left_speed = 0\n",
    "right_speed = 0\n",
    "\n",
    "try:\n",
    "    # Try connecting to the webcam\n",
    "    print(f\"Trying to connect to device {DEVICE_ID}...\")\n",
    "    if not vision.connect_webcam():\n",
    "        print(\"Could not find webcam on any device ID. Please check connection.\")\n",
    "        exit(1)\n",
    "    else: \n",
    "        print(f\"Successfully connected to device {DEVICE_ID}\")\n",
    "        \n",
    "    input(\"Press Enter to start the navigation...\")\n",
    "    \n",
    "    while not goal_reached:\n",
    "        i += 1\n",
    "        \n",
    "        # Camera Measurement\n",
    "        _, process_frame = vision.get_frame()\n",
    "        frame, thymio_pos, found_thymio = vision.get_thymio_position(process_frame)\n",
    "        \n",
    "        # Odometry Measurement\n",
    "        left_measured_speed, right_measured_speed = get_motor_speed()\n",
    "        \n",
    "        # EKF Prediction step with control inputs\n",
    "        control_input = np.array([left_speed / SPEED_TO_MM_S, right_speed / SPEED_TO_MM_S])  \n",
    "        ekf.predict(control_input)\n",
    "        \n",
    "        # Get current filtered state\n",
    "        current_state, _ = ekf.get_state_and_covariance()\n",
    "\n",
    "        if found_thymio:\n",
    "            position_measured_history.append(thymio_pos[:2])\n",
    "            \n",
    "            # Use camera position and odometry for measurement\n",
    "            measurement = np.array([thymio_pos[0], thymio_pos[1], thymio_pos[2],\n",
    "                                    left_measured_speed/SPEED_TO_MM_S, right_measured_speed/SPEED_TO_MM_S])\n",
    "            \n",
    "            if utils.distance(current_state[:2], thymio_old_pos[:2]) > KIDNAP_THRESHOLD:\n",
    "                found_trajectory = False\n",
    "                found_thymio = False\n",
    "                local_nav.current_checkpoint = 1\n",
    "                motor_stop()\n",
    "                \n",
    "                input(\"Kidnapped! Press Enter when Thymio has been placed elsewhere...\")\n",
    "                \n",
    "                while not found_trajectory:\n",
    "                    while not found_thymio:\n",
    "                        _, process_frame = vision.get_frame()\n",
    "                        frame, thymio_pos, found_thymio = vision.get_thymio_position(process_frame)\n",
    "                        time.sleep(DT)\n",
    "                    print(\"Thymio detected!\")\n",
    "                    print(f\"Thymio position [mm]: {np.round(thymio_pos[:2], 1)}\")\n",
    "                    print(f\"Thymio orientation [°]: {np.degrees(thymio_pos[2])}\")\n",
    "                    \n",
    "                    trajectory_frame = np.zeros_like(trajectory_frame)\n",
    "                    trajectory_frame, trajectory_pos, found_trajectory = global_nav.get_trajectory(obstacles_img, thymio_pos, goal_pos, obstacles_pos, \n",
    "                                                                                                   THYMIO_WIDTH, vision.scale_factor)\n",
    "                    current_frame = trajectory_frame.copy()\n",
    "                    current_frame = utils.draw_trajectory(current_frame, position_measured_history, \n",
    "                                                          vision.scale_factor, color=(255, 0, 0))\n",
    "\n",
    "                    current_frame = utils.draw_trajectory(current_frame, filtered_position_history, \n",
    "                                                        vision.scale_factor, color=(0, 255, 0))\n",
    "                    \n",
    "                    current_frame = utils.draw_robot(current_frame, thymio_pos, THYMIO_WIDTH, \n",
    "                                                     THYMIO_LENGTH, vision.scale_factor)\n",
    "\n",
    "                    time.sleep(DT)\n",
    "                    \n",
    "                # Reinitialize the EKF after kidnapping\n",
    "                ekf.initialize_state(np.array([thymio_pos[0], thymio_pos[1], thymio_pos[2], 0.0, 0.0]))\n",
    "                \n",
    "                utils.display_frames(None, frame, current_frame)\n",
    "                \n",
    "                input(\"Press Enter to continue...\")\n",
    "                \n",
    "        else: \n",
    "            covered += 1\n",
    "            # Use filtered position when camera cannot see robot\n",
    "            measurement = np.array([current_state[0], current_state[1], current_state[2],\n",
    "                                    left_measured_speed/SPEED_TO_MM_S, right_measured_speed/SPEED_TO_MM_S])\n",
    "            \n",
    "        thymio_old_pos = current_state[:3]\n",
    "        \n",
    "        # Update EKF with appropriate mode\n",
    "        ekf.set_mode(covered=(not found_thymio))\n",
    "        ekf.update(measurement)\n",
    "        \n",
    "        # Use filtered state for navigation\n",
    "        filtered_state, _ = ekf.get_state_and_covariance()\n",
    "        filtered_position_history.append(filtered_state[:2])\n",
    "        \n",
    "        command, goal_reached = local_nav.get_command(trajectory_pos, filtered_state[:3], sensor_data())\n",
    "        \n",
    "        if (command['action'] == 'follow_path') or (command['action'] == 'avoid_obstacles'):\n",
    "            left_speed = command['left_speed']\n",
    "            right_speed = command['right_speed']\n",
    "            motor_move(left_speed, right_speed)\n",
    "        else:\n",
    "            motor_stop()\n",
    "            \n",
    "        # Update trajectory frame with robot\n",
    "        if trajectory_frame is not None:\n",
    "            current_frame = trajectory_frame.copy()\n",
    "            # Draw measured trajectory in blue\n",
    "            current_frame = utils.draw_trajectory(current_frame, position_measured_history, \n",
    "                                                  vision.scale_factor, color=(255, 0, 0))\n",
    "              # Draw filtered trajectory in green\n",
    "            current_frame = utils.draw_trajectory(current_frame, filtered_position_history, \n",
    "                                                  vision.scale_factor, color=(0, 255, 0))\n",
    "            # Draw robot using filtered position\n",
    "            current_frame = utils.draw_robot(current_frame, filtered_state[:3], THYMIO_WIDTH, \n",
    "                                             THYMIO_LENGTH, vision.scale_factor)\n",
    "\n",
    "        utils.display_frames(None, process_frame, current_frame) \n",
    "        time.sleep(DT)\n",
    "        \n",
    "except Exception as e:\n",
    "    print(f\"An error occurred: {str(e)}\")\n",
    "    exit(1)\n",
    "except KeyboardInterrupt:\n",
    "    print(\"User interrupted the kernel. Shutting down the motors, closing the webcam...\")\n",
    "finally:\n",
    "    # Release resources\n",
    "    vision.disconnect_webcam()\n",
    "    motor_stop()\n",
    "    print(\"Finished at time [s]:\", i * DT)\n",
    "    print(\"Camera coverage [%]:\", covered/i * 100)\n",
    "   "
   ]
  },
  {
   "cell_type": "code",
   "execution_count": null,
   "metadata": {},
   "outputs": [
    {
     "name": "stdout",
     "output_type": "stream",
     "text": [
      "Successfully connected to Thymio.\n"
     ]
    }
   ],
   "source": [
    "await tdmclient.notebook.stop()\n",
    "print(\"Successfully disconnected to Thymio.\")"
   ]
  }
 ],
 "metadata": {
  "kernelspec": {
   "display_name": "thymio-project",
   "language": "python",
   "name": "python3"
  },
  "language_info": {
   "codemirror_mode": {
    "name": "ipython",
    "version": 3
   },
   "file_extension": ".py",
   "mimetype": "text/x-python",
   "name": "python",
   "nbconvert_exporter": "python",
   "pygments_lexer": "ipython3",
   "version": "3.12.2"
  }
 },
 "nbformat": 4,
 "nbformat_minor": 2
}
