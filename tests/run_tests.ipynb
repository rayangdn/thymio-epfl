{
 "cells": [
  {
   "cell_type": "markdown",
   "metadata": {},
   "source": [
    "# Tests Realised for Thymio Project"
   ]
  },
  {
   "cell_type": "markdown",
   "metadata": {},
   "source": [
    "## Import Libraries"
   ]
  },
  {
   "cell_type": "code",
   "execution_count": 17,
   "metadata": {},
   "outputs": [],
   "source": [
    "import sys\n",
    "import os\n",
    "import yaml\n",
    "import numpy as np\n",
    "import time\n",
    "import matplotlib.pyplot as plt\n",
    "from tqdm.notebook import tqdm\n",
    "import tdmclient.notebook\n",
    "from IPython.display import display, clear_output\n",
    "\n",
    "from scripts.vision import Vision\n",
    "from utils import utils"
   ]
  },
  {
   "cell_type": "markdown",
   "metadata": {},
   "source": [
    "## Import Configuration File"
   ]
  },
  {
   "cell_type": "code",
   "execution_count": 19,
   "metadata": {},
   "outputs": [
    {
     "name": "stdout",
     "output_type": "stream",
     "text": [
      "Vision initialized correctly.\n"
     ]
    }
   ],
   "source": [
    "# Get current directory\n",
    "current_dir = os.getcwd()\n",
    "\n",
    "# Assuming you're in variance_calculation folder and scripts is at the same level:\n",
    "# Add the parent directory to system path to access scripts folder\n",
    "parent_dir = os.path.dirname(current_dir)\n",
    "sys.path.append(parent_dir)\n",
    "\n",
    "config_path = os.path.join(parent_dir, 'config', 'config.yaml')\n",
    "\n",
    "# Load the config file\n",
    "with open(config_path, 'r') as file:\n",
    "    config = yaml.safe_load(file)\n",
    "\n",
    "# Genral configuration\n",
    "DT = config['time_step']\n",
    "KIDNAP_THRESHOLD = config['kidnapping_threshold']\n",
    "\n",
    "# Webcam configuration\n",
    "webcam_device_id = config['webcam']['device_id'] \n",
    "\n",
    "# World configuration\n",
    "world_width = config['world']['width']  # mm\n",
    "world_height = config['world']['height']  # mm\n",
    "\n",
    "# Thymio configuration\n",
    "thymio_width = config['thymio']['width']  # mm\n",
    "thymio_height = config['thymio']['length']  # mm$\n",
    "thymio_wheel_base = config['thymio']['wheel_base']  # mm\n",
    "thymio_weel_radius = config['thymio']['wheel_radius']  # mm \n",
    "\n",
    "vision = Vision(webcam_device_id)"
   ]
  },
  {
   "cell_type": "markdown",
   "metadata": {},
   "source": [
    "## Connect to Thymio"
   ]
  },
  {
   "cell_type": "code",
   "execution_count": 5,
   "metadata": {},
   "outputs": [
    {
     "name": "stdout",
     "output_type": "stream",
     "text": [
      "Successfully connected to Thymio.\n"
     ]
    }
   ],
   "source": [
    "await tdmclient.notebook.start()\n",
    "print(\"Successfully connected to Thymio.\")\n",
    "\n",
    "@tdmclient.notebook.sync_var\n",
    "def set_motor_speed(left,right):\n",
    "    global motor_left_target, motor_right_target\n",
    "    motor_left_target = left\n",
    "    motor_right_target = right\n",
    "\n",
    "@tdmclient.notebook.sync_var\n",
    "def get_motor_speed():\n",
    "    global motor_left_speed, motor_right_speed\n",
    "    return motor_left_speed, motor_right_speed\n",
    "\n",
    "@tdmclient.notebook.sync_var\n",
    "def motor_stop():\n",
    "    global motor_left_target,motor_right_target\n",
    "    motor_left_target = 0\n",
    "    motor_right_target = 0"
   ]
  },
  {
   "cell_type": "markdown",
   "metadata": {},
   "source": [
    "## Speed Conversion Test"
   ]
  },
  {
   "cell_type": "code",
   "execution_count": 13,
   "metadata": {},
   "outputs": [],
   "source": [
    "def calculate_speed(wheel_radius, num_rotations, time_seconds):\n",
    "    circumference = 2 * wheel_radius * np.pi     # 2 * π * radius\n",
    "    distance = circumference * num_rotations     # total distance traveled\n",
    "    speed = distance / time_seconds              # speed in mm/s\n",
    "    return speed"
   ]
  },
  {
   "cell_type": "code",
   "execution_count": null,
   "metadata": {},
   "outputs": [
    {
     "data": {
      "text/plain": [
       "'Trial 3 for speed setting: 200'"
      ]
     },
     "metadata": {},
     "output_type": "display_data"
    },
    {
     "name": "stdout",
     "output_type": "stream",
     "text": [
      "\n",
      "Conversion coefficients for each speed:\n",
      "Speed Setting | Mean Coefficient | Individual Trials\n",
      "-------------|------------------|------------------\n",
      "          50 |          3.0462 | 3.0607, 3.1085, 2.9693\n",
      "          75 |          2.8424 | 2.8421, 2.8020, 2.8832\n",
      "         100 |          2.9012 | 2.9473, 2.8625, 2.8937\n",
      "         150 |          2.9404 | 2.9842, 2.9256, 2.9114\n",
      "         200 |          3.0030 | 3.0029, 2.9916, 3.0143\n",
      "\n",
      "Overall mean conversion coefficient: 2.9466\n"
     ]
    }
   ],
   "source": [
    "# Set the speed of the robot\n",
    "measuremend_time = 10\n",
    "speed_settings = [50, 75, 100, 150, 200]\n",
    "speed_to_coeffs = {speed: [] for speed in speed_settings}  # Dictionary to store coeffs for each speed\n",
    "mean_coeffs = {}  # Dictionary to store mean coeff for each speed\n",
    "\n",
    "print(\"Starting speed calibration measurements\")\n",
    "for speed_setting in speed_settings:\n",
    "    for trial in range(3):\n",
    "        # In your loop:\n",
    "        clear_output(wait=True)  # This clears the previous output\n",
    "        display(f\"Trial {trial + 1} for speed setting: {speed_setting}\")\n",
    "        input(\"Press Enter to start counting rotations...\")\n",
    "        set_motor_speed(speed_setting, speed_setting)\n",
    "        time.sleep(measuremend_time)\n",
    "        motor_stop()\n",
    "        rotations = float(input(f\"Enter number of rotations counted in {measuremend_time} seconds: \"))\n",
    "    \n",
    "        # Calculate actual speed in mm/s\n",
    "        speed_mms = calculate_speed(thymio_weel_radius, rotations, measuremend_time)\n",
    "        \n",
    "        # Calculate conversion coefficient (setting/actual_speed)\n",
    "        coeff = speed_setting / speed_mms\n",
    "        speed_to_coeffs[speed_setting].append(coeff)\n",
    "\n",
    "    # Calculate mean coefficient for this speed\n",
    "    mean_coeffs[speed_setting] = np.mean(speed_to_coeffs[speed_setting])\n",
    "\n",
    "# Print results\n",
    "print(\"\\nConversion coefficients for each speed:\")\n",
    "print(\"Speed Setting | Mean Coefficient | Individual Trials\")\n",
    "print(\"-------------|------------------|------------------\")\n",
    "for speed, coeffs in speed_to_coeffs.items():\n",
    "    trials_str = \", \".join([f\"{c:.4f}\" for c in coeffs])\n",
    "    print(f\"{speed:12d} | {mean_coeffs[speed]:15.4f} | {trials_str}\")\n",
    "\n",
    "overall_mean = np.mean([coeff for coeffs in speed_to_coeffs.values() for coeff in coeffs])\n",
    "print(f\"\\nOverall mean conversion coefficient: {overall_mean:.4f}\")"
   ]
  },
  {
   "cell_type": "markdown",
   "metadata": {},
   "source": [
    "## Camera Covariance Test"
   ]
  },
  {
   "cell_type": "code",
   "execution_count": null,
   "metadata": {},
   "outputs": [
    {
     "name": "stdout",
     "output_type": "stream",
     "text": [
      "Vision initialized correctly.\n"
     ]
    }
   ],
   "source": [
    "# Initialize arrays to store positions and orientations\n",
    "n_samples = 500\n",
    "positions = np.zeros((n_samples, 2))  # For x,y positions\n",
    "orientations = np.zeros(n_samples)    # For orientation values"
   ]
  },
  {
   "cell_type": "code",
   "execution_count": 7,
   "metadata": {},
   "outputs": [
    {
     "name": "stdout",
     "output_type": "stream",
     "text": [
      "Webcam connected correctly.\n",
      "Collecting camera data...\n",
      "Find all four corners!\n",
      "Got a valid perspective matrix and a defined roi!\n"
     ]
    },
    {
     "data": {
      "application/vnd.jupyter.widget-view+json": {
       "model_id": "d9b59c22d45547eb8cb432ee946689e3",
       "version_major": 2,
       "version_minor": 0
      },
      "text/plain": [
       "  0%|          | 0/500 [00:00<?, ?it/s]"
      ]
     },
     "metadata": {},
     "output_type": "display_data"
    },
    {
     "name": "stdout",
     "output_type": "stream",
     "text": [
      "Webcam disconnected correctly.\n"
     ]
    }
   ],
   "source": [
    "vision.connect_webcam()\n",
    "\n",
    "try:\n",
    "   # Collect data\n",
    "    print(\"Collecting camera data...\")\n",
    "    vision.get_perspective_parameters(world_width, world_height)\n",
    "    found_thymio = False\n",
    "    for i in tqdm(range(n_samples)):\n",
    "        _, process_frame = vision.get_frame()\n",
    "        frame, thymio_pos, found_thymio = vision.get_thymio_position(process_frame)\n",
    "        if found_thymio:\n",
    "            positions[i] = thymio_pos[:2] # Store x,y positions\n",
    "            orientations[i] = thymio_pos[2] # Store orientation values\n",
    "        else:\n",
    "            print(\"Thymio not found\")   \n",
    "            i -= 1\n",
    "        time.sleep(DT)\n",
    "except KeyboardInterrupt:\n",
    "    pass\n",
    "finally:\n",
    "    vision.disconnect_webcam()"
   ]
  },
  {
   "cell_type": "code",
   "execution_count": 8,
   "metadata": {},
   "outputs": [
    {
     "name": "stdout",
     "output_type": "stream",
     "text": [
      "\n",
      "Covariance Results:\n",
      "X position variance: 0.08497380\n",
      "Y position variance: 0.11697213\n",
      "Orientation variance: 0.00000717\n"
     ]
    }
   ],
   "source": [
    "# Calculate variances (covariances with themselves)\n",
    "pos_mean = np.mean(positions, axis=0)\n",
    "x_variance = np.var(positions[:, 0])\n",
    "y_variance = np.var(positions[:, 1])\n",
    "orientation_variance = np.var(orientations)\n",
    "\n",
    "print(\"\\nCovariance Results:\")\n",
    "print(f\"X position variance: {x_variance:.8f}\")\n",
    "print(f\"Y position variance: {y_variance:.8f}\")\n",
    "print(f\"Orientation variance: {orientation_variance:.8f}\")"
   ]
  },
  {
   "cell_type": "markdown",
   "metadata": {},
   "source": [
    "## Translation Velocity Covariance Test\n"
   ]
  },
  {
   "cell_type": "code",
   "execution_count": null,
   "metadata": {},
   "outputs": [
    {
     "name": "stdout",
     "output_type": "stream",
     "text": [
      "\n",
      "Speed | Mean Coef | Individual Coefficients\n",
      "------|-----------|----------------------\n",
      "  50 | 0.9876 | 0.9752, 0.9718, 1.0054, 0.9930, 0.9924\n",
      " 100 | 0.9900 | 1.0093, 0.9698, 1.0191, 0.9574, 0.9942\n",
      " 150 | 0.9916 | 0.9902, 0.9815, 1.0045, 0.9954, 0.9866\n",
      " 200 | 1.0040 | 1.0077, 0.9962, 1.0041, 1.0052, 1.0066\n",
      "\n",
      "Overall variance: 71.4096\n",
      "Overall coefficient: 0.9933\n"
     ]
    }
   ],
   "source": [
    "\n",
    "all_samples = []\n",
    "target_speeds = [50, 100, 150, 200]\n",
    "\n",
    "for target_v in target_speeds:\n",
    "    input(f\"Press enter for speed {target_v}...\")\n",
    "    for i in range(5):\n",
    "        input(\"Press enter for next trial...\")\n",
    "        print(f\"Testing speed: {target_v}, trial {i + 1}\")\n",
    "        clear_output(wait=True)\n",
    "        set_motor_speed(target_v, target_v)\n",
    "        time.sleep(1)  # Stabilize\n",
    "        \n",
    "        samples = []\n",
    "        for _ in range(50):\n",
    "            left, right = get_motor_speed()\n",
    "            v = (left + right) / 2\n",
    "            samples.append(v)\n",
    "            time.sleep(DT)\n",
    "        \n",
    "        all_samples.extend(samples)\n",
    "        motor_stop()\n",
    "\n",
    "# Organize and analyze data\n",
    "samples_array = np.array(all_samples)\n",
    "samples_per_trial = 50\n",
    "trials_per_speed = 5\n",
    "idx = 0\n",
    "\n",
    "stats = {}\n",
    "for speed in target_speeds:\n",
    "    speed_trials = []\n",
    "    for _ in range(trials_per_speed):\n",
    "        trial = samples_array[idx:idx + samples_per_trial]\n",
    "        speed_trials.append(trial)\n",
    "        idx += samples_per_trial\n",
    "        \n",
    "    trial_means = [np.mean(trial) for trial in speed_trials]\n",
    "    coefficients = [mean/speed for mean in trial_means]\n",
    "    variances = [np.var(trial) for trial in speed_trials]\n",
    "    \n",
    "    stats[speed] = {\n",
    "        'mean_velocity': np.mean(trial_means),\n",
    "        'coefficients': coefficients, \n",
    "        'mean_coefficient': np.mean(coefficients),\n",
    "        'variance': np.mean(variances)\n",
    "    }\n",
    "\n",
    "# Print results\n",
    "print(\"\\nSpeed | Mean Coef | Individual Coefficients\")\n",
    "print(\"------|-----------|----------------------\")\n",
    "for speed in target_speeds:\n",
    "    coeffs = stats[speed]['coefficients']\n",
    "    print(f\"{speed:4d} | {stats[speed]['mean_coefficient']:.4f} | {', '.join([f'{c:.4f}' for c in coeffs])}\")\n",
    "\n",
    "overall_var = np.mean([s['variance'] for s in stats.values()])\n",
    "overall_coef = np.mean([s['mean_coefficient'] for s in stats.values()])\n",
    "print(f\"\\nOverall variance: {overall_var:.4f}\")\n",
    "print(f\"Overall coefficient: {overall_coef:.4f}\")\n",
    "\n"
   ]
  },
  {
   "cell_type": "code",
   "execution_count": null,
   "metadata": {},
   "outputs": [
    {
     "data": {
      "image/png": "[encoded data removed]",
      "text/plain": [
       "<Figure size 1500x500 with 2 Axes>"
      ]
     },
     "metadata": {},
     "output_type": "display_data"
    }
   ],
   "source": [
    "speeds = list(stats.keys())\n",
    "fig, (ax1, ax2) = plt.subplots(1, 2, figsize=(15, 5))\n",
    "\n",
    "# Plot 1: Coefficients distribution\n",
    "coeffs = [stats[s]['coefficients'] for s in speeds]\n",
    "ax1.boxplot(coeffs, tick_labels=speeds)\n",
    "ax1.set_xlabel('Target Speed')\n",
    "ax1.set_ylabel('Coefficient Value')\n",
    "ax1.set_title('Speed Coefficients Distribution')\n",
    "ax1.grid(True)\n",
    "\n",
    "# Plot 2: Variances\n",
    "variances = [stats[s]['variance'] for s in speeds]\n",
    "ax2.bar(speeds, variances)\n",
    "ax2.set_xlabel('Target Speed')\n",
    "ax2.set_ylabel('Variance')\n",
    "ax2.set_title('Speed Measurement Variance')\n",
    "ax2.grid(True)\n",
    "\n",
    "plt.tight_layout()\n",
    "plt.show()\n"
   ]
  },
  {
   "cell_type": "markdown",
   "metadata": {},
   "source": [
    "## Angular Velocity Covariance Test"
   ]
  },
  {
   "cell_type": "code",
   "execution_count": 14,
   "metadata": {},
   "outputs": [
    {
     "name": "stdout",
     "output_type": "stream",
     "text": [
      "\n",
      "Speed | Mean Coef | Individual Coefficients\n",
      "------|-----------|----------------------\n",
      "  50 | -0.9827 | -0.9812, -0.9894, -0.9862, -0.9900, -0.9666\n",
      " 100 | -1.0026 | -1.0016, -0.9986, -1.0008, -0.9959, -1.0160\n",
      " 150 | -0.9941 | -1.0031, -0.9853, -0.9811, -0.9929, -1.0083\n",
      " 200 | -0.9978 | -0.9982, -0.9839, -0.9925, -1.0044, -1.0103\n",
      "\n",
      "Overall angular variance: 246.1112\n",
      "Overall angular coefficient: -0.9943\n"
     ]
    }
   ],
   "source": [
    "all_samples = []\n",
    "target_speeds = [50, 100, 150, 200]\n",
    "\n",
    "for target_v in target_speeds:\n",
    "   input(f\"Press enter for speed {target_v}...\")\n",
    "   for i in range(5):\n",
    "       input(\"Press enter for next trial...\")\n",
    "       print(f\"Testing angular speed: {target_v}, trial {i + 1}\")\n",
    "       clear_output(wait=True)\n",
    "       set_motor_speed(target_v, -target_v)  # Opposite speeds for rotation\n",
    "       time.sleep(1)\n",
    "       \n",
    "       samples = []\n",
    "       for _ in range(50):\n",
    "           left, right = get_motor_speed()\n",
    "           omega = (right - left) \n",
    "           samples.append(omega)\n",
    "           time.sleep(DT)\n",
    "       \n",
    "       all_samples.extend(samples)\n",
    "       motor_stop()\n",
    "\n",
    "# Analysis\n",
    "samples_array = np.array(all_samples)\n",
    "samples_per_trial = 50\n",
    "trials_per_speed = 5\n",
    "idx = 0\n",
    "\n",
    "stats = {}\n",
    "for speed in target_speeds:\n",
    "   speed_trials = []\n",
    "   for _ in range(trials_per_speed):\n",
    "       trial = samples_array[idx:idx + samples_per_trial]\n",
    "       speed_trials.append(trial)\n",
    "       idx += samples_per_trial\n",
    "       \n",
    "   trial_means = [np.mean(trial) for trial in speed_trials]\n",
    "   coefficients = [mean/(2*speed) for mean in trial_means]  # Normalize by expected angular speed\n",
    "   variances = [np.var(trial) for trial in speed_trials]\n",
    "   \n",
    "   stats[speed] = {\n",
    "       'mean_omega': np.mean(trial_means),\n",
    "       'coefficients': coefficients, \n",
    "       'mean_coefficient': np.mean(coefficients),\n",
    "       'variance': np.mean(variances)\n",
    "   }\n",
    "\n",
    "print(\"\\nSpeed | Mean Coef | Individual Coefficients\")\n",
    "print(\"------|-----------|----------------------\")\n",
    "for speed in target_speeds:\n",
    "   coeffs = stats[speed]['coefficients']\n",
    "   print(f\"{speed:4d} | {stats[speed]['mean_coefficient']:.4f} | {', '.join([f'{c:.4f}' for c in coeffs])}\")\n",
    "\n",
    "overall_var = np.mean([s['variance'] for s in stats.values()])\n",
    "overall_coef = np.mean([s['mean_coefficient'] for s in stats.values()])\n",
    "print(f\"\\nOverall angular variance: {overall_var:.4f}\")\n",
    "print(f\"Overall angular coefficient: {overall_coef:.4f}\")"
   ]
  },
  {
   "cell_type": "code",
   "execution_count": 15,
   "metadata": {},
   "outputs": [
    {
     "data": {
      "image/png": "[encoded data removed]",
      "text/plain": [
       "<Figure size 1500x500 with 2 Axes>"
      ]
     },
     "metadata": {},
     "output_type": "display_data"
    }
   ],
   "source": [
    "speeds = list(stats.keys())\n",
    "fig, (ax1, ax2) = plt.subplots(1, 2, figsize=(15, 5))\n",
    "\n",
    "# Plot 1: Coefficients distribution\n",
    "coeffs = [stats[s]['coefficients'] for s in speeds]\n",
    "ax1.boxplot(coeffs, tick_labels=speeds)\n",
    "ax1.set_xlabel('Target Speed')\n",
    "ax1.set_ylabel('Coefficient Value')\n",
    "ax1.set_title('Speed Coefficients Distribution')\n",
    "ax1.grid(True)\n",
    "\n",
    "# Plot 2: Variances\n",
    "variances = [stats[s]['variance'] for s in speeds]\n",
    "ax2.bar(speeds, variances)\n",
    "ax2.set_xlabel('Target Speed')\n",
    "ax2.set_ylabel('Variance')\n",
    "ax2.set_title('Speed Measurement Variance')\n",
    "ax2.grid(True)\n",
    "\n",
    "plt.tight_layout()\n",
    "plt.show()"
   ]
  },
  {
   "cell_type": "markdown",
   "metadata": {},
   "source": [
    "## X, Y position covariance "
   ]
  },
  {
   "cell_type": "code",
   "execution_count": null,
   "metadata": {},
   "outputs": [],
   "source": [
    "vision.connect_webcam()\n",
    "vision.get_perspective_parameters(world_width, world_height)\n",
    "\n",
    "target_speeds = [50, 100, 150, 200]\n",
    "all_variances = {speed: [] for speed in target_speeds}\n",
    "\n",
    "for speed in target_speeds:\n",
    "    input(f\"Testing speed {speed}...\")\n",
    "    for trial in range(3):\n",
    "        motor_stop()\n",
    "        input(f\"Trial {trial + 1}: Place robot at start, press enter...\")\n",
    "        print(f\"Testing speed: {speed}, trial {trial + 1}\")\n",
    "        clear_output(wait=True)\n",
    "        _, process_frame = vision.get_frame()\n",
    "        _, initial_pos, _ = vision.get_thymio_position(process_frame)\n",
    "        print(f\"Initial position: {initial_pos}\")\n",
    "        set_motor_speed(speed, speed)\n",
    "        time.sleep(1)\n",
    "        \n",
    "        expected_positions = []\n",
    "        actual_positions = []\n",
    "        t = 0\n",
    "        \n",
    "        for _ in range(50):\n",
    "            _, frame = vision.get_frame()\n",
    "            _, pos, found = vision.get_thymio_position(frame)\n",
    "            if found:\n",
    "                expected_x = pos[0] + speed * np.cos(pos[2]) * t\n",
    "                expected_y = pos[1] + speed * np.sin(pos[2]) * t\n",
    "                \n",
    "                expected_positions.append([expected_x, expected_y])\n",
    "                actual_positions.append(pos[:2])\n",
    "            t += DT\n",
    "            time.sleep(DT)\n",
    "        \n",
    "        motor_stop()\n",
    "        diffs = np.array(actual_positions) - np.array(expected_positions)\n",
    "        position_var = np.var(diffs, axis=0)\n",
    "        all_variances[speed].append(position_var)\n",
    "   \n",
    "vision.disconnect_webcam()\n",
    "# Print results\n",
    "print(\"\\nSpeed | X Variance | Y Variance\")\n",
    "print(\"------|------------|------------\")\n",
    "for speed in target_speeds:\n",
    "    mean_var = np.mean(all_variances[speed], axis=0)\n",
    "    print(f\"{speed:4d} | {mean_var[0]:10.4f} | {mean_var[1]:10.4f}\")\n",
    "\n",
    "overall_var = np.mean([np.mean(vars, axis=0) for vars in all_variances.values()], axis=0)\n",
    "print(f\"\\nOverall variance - X: {overall_var[0]:.4f}, Y: {overall_var[1]:.4f}\")\n"
   ]
  },
  {
   "cell_type": "code",
   "execution_count": 23,
   "metadata": {},
   "outputs": [
    {
     "name": "stdout",
     "output_type": "stream",
     "text": [
      "Webcam disconnected correctly.\n"
     ]
    }
   ],
   "source": [
    "try:\n",
    "    # Try connecting to the webcam\n",
    "    print(f\"Trying to connect to device {webcam_device_id}...\")\n",
    "    if not vision.connect_webcam():\n",
    "        print(\"Could not find webcam on any device ID. Please check connection.\")\n",
    "        exit(1)\n",
    "    else: \n",
    "        print(f\"Successfully connected to device {webcam_device_id}\")\n",
    "    start_time = time.time()\n",
    "    while time.time() - start_time < 30:\n",
    "        original_frame = vision._get_original_frame()\n",
    "        utils.display_frames(original_frame, None, None)\n",
    "except KeyboardInterrupt:\n",
    "    pass\n",
    "finally:\n",
    "    vision.disconnect_webcam()"
   ]
  },
  {
   "cell_type": "code",
   "execution_count": null,
   "metadata": {},
   "outputs": [],
   "source": []
  }
 ],
 "metadata": {
  "kernelspec": {
   "display_name": "thymio-project",
   "language": "python",
   "name": "python3"
  },
  "language_info": {
   "codemirror_mode": {
    "name": "ipython",
    "version": 3
   },
   "file_extension": ".py",
   "mimetype": "text/x-python",
   "name": "python",
   "nbconvert_exporter": "python",
   "pygments_lexer": "ipython3",
   "version": "3.12.2"
  }
 },
 "nbformat": 4,
 "nbformat_minor": 2
}
